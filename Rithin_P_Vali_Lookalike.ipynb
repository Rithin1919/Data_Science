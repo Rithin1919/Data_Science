{
 "cells": [
  {
   "cell_type": "code",
   "execution_count": 9,
   "id": "7ab6a0d4-106c-4df4-8530-8f23ab05a92b",
   "metadata": {},
   "outputs": [
    {
     "data": {
      "text/plain": [
       "(  ï»¿CustomerID        CustomerName         Region SignupDate\n",
       " 0         C0001    Lawrence Carroll  South America 2022-07-10\n",
       " 1         C0002      Elizabeth Lutz           Asia 2022-02-13\n",
       " 2         C0003      Michael Rivera  South America 2024-03-07\n",
       " 3         C0004  Kathleen Rodriguez  South America 2022-10-09\n",
       " 4         C0005         Laura Weber           Asia 2022-08-15,\n",
       "   ï»¿ProductID              ProductName     Category   Price\n",
       " 0         P001     ActiveWear Biography        Books  169.30\n",
       " 1         P002    ActiveWear Smartwatch  Electronics  346.30\n",
       " 2         P003  ComfortLiving Biography        Books   44.12\n",
       " 3         P004            BookWorld Rug   Home Decor   95.69\n",
       " 4         P005          TechPro T-Shirt     Clothing  429.31)"
      ]
     },
     "execution_count": 9,
     "metadata": {},
     "output_type": "execute_result"
    }
   ],
   "source": [
    "\n",
    "  import pandas as pd\n",
    "customers_file = 'Customers.csv.xlsx'\n",
    "products_file = 'Products.csv.xlsx'\n",
    "customers_df = pd.read_excel(customers_file)\n",
    "products_df = pd.read_excel(products_file)\n",
    "customers_df.head(), products_df.head()\n"
   ]
  },
  {
   "cell_type": "code",
   "execution_count": 10,
   "id": "52f440c5-d927-4060-921a-e3c3e6a91a1b",
   "metadata": {},
   "outputs": [
    {
     "name": "stdout",
     "output_type": "stream",
     "text": [
      "<class 'pandas.core.frame.DataFrame'>\n",
      "RangeIndex: 200 entries, 0 to 199\n",
      "Data columns (total 4 columns):\n",
      " #   Column        Non-Null Count  Dtype         \n",
      "---  ------        --------------  -----         \n",
      " 0   CustomerID    200 non-null    object        \n",
      " 1   CustomerName  200 non-null    object        \n",
      " 2   Region        200 non-null    object        \n",
      " 3   SignupDate    200 non-null    datetime64[ns]\n",
      "dtypes: datetime64[ns](1), object(3)\n",
      "memory usage: 6.4+ KB\n",
      "<class 'pandas.core.frame.DataFrame'>\n",
      "RangeIndex: 100 entries, 0 to 99\n",
      "Data columns (total 4 columns):\n",
      " #   Column       Non-Null Count  Dtype  \n",
      "---  ------       --------------  -----  \n",
      " 0   ProductID    100 non-null    object \n",
      " 1   ProductName  100 non-null    object \n",
      " 2   Category     100 non-null    object \n",
      " 3   Price        100 non-null    float64\n",
      "dtypes: float64(1), object(3)\n",
      "memory usage: 3.3+ KB\n"
     ]
    },
    {
     "data": {
      "text/plain": [
       "(None,\n",
       " None,\n",
       " array(['South America', 'Asia', 'North America', 'Europe'], dtype=object),\n",
       " array(['Books', 'Electronics', 'Home Decor', 'Clothing'], dtype=object))"
      ]
     },
     "execution_count": 10,
     "metadata": {},
     "output_type": "execute_result"
    }
   ],
   "source": [
    "customers_df.columns = customers_df.columns.str.strip().str.replace(\"ï»¿\", \"\")\n",
    "products_df.columns = products_df.columns.str.strip().str.replace(\"ï»¿\", \"\")\n",
    "customers_info = customers_df.info()\n",
    "products_info = products_df.info()\n",
    "unique_regions = customers_df['Region'].unique()\n",
    "unique_categories = products_df['Category'].unique()\n",
    "customers_info, products_info, unique_regions, unique_categories"
   ]
  },
  {
   "cell_type": "code",
   "execution_count": 11,
   "id": "33fd50d8-ee12-4158-98f5-ab9a721f5196",
   "metadata": {},
   "outputs": [
    {
     "data": {
      "text/html": [
       "<div>\n",
       "<style scoped>\n",
       "    .dataframe tbody tr th:only-of-type {\n",
       "        vertical-align: middle;\n",
       "    }\n",
       "\n",
       "    .dataframe tbody tr th {\n",
       "        vertical-align: top;\n",
       "    }\n",
       "\n",
       "    .dataframe thead th {\n",
       "        text-align: right;\n",
       "    }\n",
       "</style>\n",
       "<table border=\"1\" class=\"dataframe\">\n",
       "  <thead>\n",
       "    <tr style=\"text-align: right;\">\n",
       "      <th></th>\n",
       "      <th>CustomerID</th>\n",
       "      <th>ProductID</th>\n",
       "    </tr>\n",
       "  </thead>\n",
       "  <tbody>\n",
       "    <tr>\n",
       "      <th>0</th>\n",
       "      <td>C0001</td>\n",
       "      <td>P084</td>\n",
       "    </tr>\n",
       "    <tr>\n",
       "      <th>1</th>\n",
       "      <td>C0001</td>\n",
       "      <td>P054</td>\n",
       "    </tr>\n",
       "    <tr>\n",
       "      <th>2</th>\n",
       "      <td>C0001</td>\n",
       "      <td>P071</td>\n",
       "    </tr>\n",
       "    <tr>\n",
       "      <th>3</th>\n",
       "      <td>C0001</td>\n",
       "      <td>P046</td>\n",
       "    </tr>\n",
       "    <tr>\n",
       "      <th>4</th>\n",
       "      <td>C0001</td>\n",
       "      <td>P045</td>\n",
       "    </tr>\n",
       "  </tbody>\n",
       "</table>\n",
       "</div>"
      ],
      "text/plain": [
       "  CustomerID ProductID\n",
       "0      C0001      P084\n",
       "1      C0001      P054\n",
       "2      C0001      P071\n",
       "3      C0001      P046\n",
       "4      C0001      P045"
      ]
     },
     "execution_count": 11,
     "metadata": {},
     "output_type": "execute_result"
    }
   ],
   "source": [
    "import numpy as np\n",
    "np.random.seed(42)\n",
    "transactions = []\n",
    "\n",
    "customer_ids = customers_df['CustomerID'].tolist()\n",
    "product_ids = products_df['ProductID'].tolist()\n",
    "\n",
    "for customer_id in customer_ids:\n",
    "    num_purchases = np.random.randint(5, 16)  # Each customer buys 5-15 products\n",
    "    purchased_products = np.random.choice(product_ids, num_purchases, replace=False)\n",
    "    for product_id in purchased_products:\n",
    "        transactions.append({\"CustomerID\": customer_id, \"ProductID\": product_id})\n",
    "transactions_df = pd.DataFrame(transactions)\n",
    "transactions_df.head()\n"
   ]
  },
  {
   "cell_type": "code",
   "execution_count": 12,
   "id": "2d126f68-904d-4a41-9cde-f20917aee48d",
   "metadata": {},
   "outputs": [
    {
     "data": {
      "text/html": [
       "<div>\n",
       "<style scoped>\n",
       "    .dataframe tbody tr th:only-of-type {\n",
       "        vertical-align: middle;\n",
       "    }\n",
       "\n",
       "    .dataframe tbody tr th {\n",
       "        vertical-align: top;\n",
       "    }\n",
       "\n",
       "    .dataframe thead th {\n",
       "        text-align: right;\n",
       "    }\n",
       "</style>\n",
       "<table border=\"1\" class=\"dataframe\">\n",
       "  <thead>\n",
       "    <tr style=\"text-align: right;\">\n",
       "      <th></th>\n",
       "      <th>CustomerID</th>\n",
       "      <th>total_spend</th>\n",
       "      <th>product_count</th>\n",
       "      <th>books_count</th>\n",
       "      <th>electronics_count</th>\n",
       "      <th>home_decor_count</th>\n",
       "      <th>clothing_count</th>\n",
       "    </tr>\n",
       "  </thead>\n",
       "  <tbody>\n",
       "    <tr>\n",
       "      <th>0</th>\n",
       "      <td>C0001</td>\n",
       "      <td>2860.33</td>\n",
       "      <td>11</td>\n",
       "      <td>0.272727</td>\n",
       "      <td>0.000000</td>\n",
       "      <td>0.272727</td>\n",
       "      <td>0.454545</td>\n",
       "    </tr>\n",
       "    <tr>\n",
       "      <th>1</th>\n",
       "      <td>C0002</td>\n",
       "      <td>1708.70</td>\n",
       "      <td>7</td>\n",
       "      <td>0.285714</td>\n",
       "      <td>0.000000</td>\n",
       "      <td>0.285714</td>\n",
       "      <td>0.428571</td>\n",
       "    </tr>\n",
       "    <tr>\n",
       "      <th>2</th>\n",
       "      <td>C0003</td>\n",
       "      <td>2840.49</td>\n",
       "      <td>9</td>\n",
       "      <td>0.333333</td>\n",
       "      <td>0.333333</td>\n",
       "      <td>0.222222</td>\n",
       "      <td>0.111111</td>\n",
       "    </tr>\n",
       "    <tr>\n",
       "      <th>3</th>\n",
       "      <td>C0004</td>\n",
       "      <td>4309.56</td>\n",
       "      <td>15</td>\n",
       "      <td>0.133333</td>\n",
       "      <td>0.266667</td>\n",
       "      <td>0.200000</td>\n",
       "      <td>0.400000</td>\n",
       "    </tr>\n",
       "    <tr>\n",
       "      <th>4</th>\n",
       "      <td>C0005</td>\n",
       "      <td>2316.00</td>\n",
       "      <td>7</td>\n",
       "      <td>0.428571</td>\n",
       "      <td>0.142857</td>\n",
       "      <td>0.428571</td>\n",
       "      <td>0.000000</td>\n",
       "    </tr>\n",
       "  </tbody>\n",
       "</table>\n",
       "</div>"
      ],
      "text/plain": [
       "  CustomerID  total_spend  product_count  books_count  electronics_count  \\\n",
       "0      C0001      2860.33             11     0.272727           0.000000   \n",
       "1      C0002      1708.70              7     0.285714           0.000000   \n",
       "2      C0003      2840.49              9     0.333333           0.333333   \n",
       "3      C0004      4309.56             15     0.133333           0.266667   \n",
       "4      C0005      2316.00              7     0.428571           0.142857   \n",
       "\n",
       "   home_decor_count  clothing_count  \n",
       "0          0.272727        0.454545  \n",
       "1          0.285714        0.428571  \n",
       "2          0.222222        0.111111  \n",
       "3          0.200000        0.400000  \n",
       "4          0.428571        0.000000  "
      ]
     },
     "execution_count": 12,
     "metadata": {},
     "output_type": "execute_result"
    }
   ],
   "source": [
    "transactions_merged = transactions_df.merge(products_df, on=\"ProductID\", how=\"left\")\n",
    "customer_features = (\n",
    "    transactions_merged.groupby(\"CustomerID\")\n",
    "    .agg(\n",
    "        total_spend=(\"Price\", \"sum\"),\n",
    "        product_count=(\"ProductID\", \"count\"),\n",
    "        books_count=(\"Category\", lambda x: (x == \"Books\").sum()),\n",
    "        electronics_count=(\"Category\", lambda x: (x == \"Electronics\").sum()),\n",
    "        home_decor_count=(\"Category\", lambda x: (x == \"Home Decor\").sum()),\n",
    "        clothing_count=(\"Category\", lambda x: (x == \"Clothing\").sum()),\n",
    "    )\n",
    "    .reset_index()\n",
    ")\n",
    "category_columns = [\"books_count\", \"electronics_count\", \"home_decor_count\", \"clothing_count\"]\n",
    "for col in category_columns:\n",
    "    customer_features[col] = customer_features[col] / customer_features[\"product_count\"]\n",
    "customer_features.head()\n"
   ]
  },
  {
   "cell_type": "code",
   "execution_count": 18,
   "id": "9b21eada-485c-4cac-b80e-65881144880a",
   "metadata": {},
   "outputs": [
    {
     "data": {
      "text/plain": [
       "'desktop/Rithin_P_Vali_Lookalike.csv'"
      ]
     },
     "execution_count": 18,
     "metadata": {},
     "output_type": "execute_result"
    }
   ],
   "source": [
    "from sklearn.metrics.pairwise import cosine_similarity\n",
    "features = customer_features.set_index(\"CustomerID\").drop(columns=[\"total_spend\", \"product_count\"])\n",
    "similarity_matrix = cosine_similarity(features)\n",
    "similarity_df = pd.DataFrame(similarity_matrix, index=features.index, columns=features.index)\n",
    "top_20_customers = customer_features[\"CustomerID\"].head(20)\n",
    "lookalike_map = {}\n",
    "\n",
    "for customer_id in top_20_customers:\n",
    "    similar_customers = (\n",
    "        similarity_df[customer_id].sort_values(ascending=False).iloc[1:4]\n",
    "    )\n",
    "    lookalike_map[customer_id] = list(similar_customers.items())\n",
    "lookalike_list = []\n",
    "for cust_id, lookalikes in lookalike_map.items():\n",
    "    for similar_cust_id, score in lookalikes:\n",
    "        lookalike_list.append({\"CustomerID\": cust_id, \"SimilarCustomerID\": similar_cust_id, \"Score\": score})\n",
    "\n",
    "lookalike_df = pd.DataFrame(lookalike_list)\n",
    "output_file = \"desktop/Rithin_P_Vali_Lookalike.csv\"\n",
    "lookalike_df.to_csv(output_file, index=False)\n",
    "\n",
    "output_file\n"
   ]
  },
  {
   "cell_type": "code",
   "execution_count": null,
   "id": "71c70f72-0648-4ed8-8a3d-d20f39c89d3c",
   "metadata": {},
   "outputs": [],
   "source": []
  }
 ],
 "metadata": {
  "kernelspec": {
   "display_name": "Python 3 (ipykernel)",
   "language": "python",
   "name": "python3"
  },
  "language_info": {
   "codemirror_mode": {
    "name": "ipython",
    "version": 3
   },
   "file_extension": ".py",
   "mimetype": "text/x-python",
   "name": "python",
   "nbconvert_exporter": "python",
   "pygments_lexer": "ipython3",
   "version": "3.12.7"
  }
 },
 "nbformat": 4,
 "nbformat_minor": 5
}
