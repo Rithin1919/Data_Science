{
 "cells": [
  {
   "cell_type": "markdown",
   "id": "cf82c390-d706-4086-9586-798afdeb16cd",
   "metadata": {},
   "source": [
    "## Importing the reqired libraries"
   ]
  },
  {
   "cell_type": "code",
   "execution_count": 6,
   "id": "e01987b6-169b-4fad-9553-de79be102ab0",
   "metadata": {},
   "outputs": [],
   "source": [
    "import pandas as pd \n",
    "import numpy as np\n",
    "import seaborn as sns\n",
    "import matplotlib.pyplot as plt"
   ]
  },
  {
   "cell_type": "markdown",
   "id": "035a86d5-7da1-4368-877a-3d789b95f645",
   "metadata": {},
   "source": [
    "# Reading the customer data"
   ]
  },
  {
   "cell_type": "code",
   "execution_count": 12,
   "id": "d71c4b80-085e-4ede-8556-d44b5eef0a1d",
   "metadata": {},
   "outputs": [
    {
     "data": {
      "text/html": [
       "<div>\n",
       "<style scoped>\n",
       "    .dataframe tbody tr th:only-of-type {\n",
       "        vertical-align: middle;\n",
       "    }\n",
       "\n",
       "    .dataframe tbody tr th {\n",
       "        vertical-align: top;\n",
       "    }\n",
       "\n",
       "    .dataframe thead th {\n",
       "        text-align: right;\n",
       "    }\n",
       "</style>\n",
       "<table border=\"1\" class=\"dataframe\">\n",
       "  <thead>\n",
       "    <tr style=\"text-align: right;\">\n",
       "      <th></th>\n",
       "      <th>ï»¿CustomerID</th>\n",
       "      <th>CustomerName</th>\n",
       "      <th>Region</th>\n",
       "      <th>SignupDate</th>\n",
       "    </tr>\n",
       "  </thead>\n",
       "  <tbody>\n",
       "    <tr>\n",
       "      <th>0</th>\n",
       "      <td>C0001</td>\n",
       "      <td>Lawrence Carroll</td>\n",
       "      <td>South America</td>\n",
       "      <td>2022-07-10</td>\n",
       "    </tr>\n",
       "    <tr>\n",
       "      <th>1</th>\n",
       "      <td>C0002</td>\n",
       "      <td>Elizabeth Lutz</td>\n",
       "      <td>Asia</td>\n",
       "      <td>2022-02-13</td>\n",
       "    </tr>\n",
       "    <tr>\n",
       "      <th>2</th>\n",
       "      <td>C0003</td>\n",
       "      <td>Michael Rivera</td>\n",
       "      <td>South America</td>\n",
       "      <td>2024-03-07</td>\n",
       "    </tr>\n",
       "    <tr>\n",
       "      <th>3</th>\n",
       "      <td>C0004</td>\n",
       "      <td>Kathleen Rodriguez</td>\n",
       "      <td>South America</td>\n",
       "      <td>2022-10-09</td>\n",
       "    </tr>\n",
       "    <tr>\n",
       "      <th>4</th>\n",
       "      <td>C0005</td>\n",
       "      <td>Laura Weber</td>\n",
       "      <td>Asia</td>\n",
       "      <td>2022-08-15</td>\n",
       "    </tr>\n",
       "  </tbody>\n",
       "</table>\n",
       "</div>"
      ],
      "text/plain": [
       "  ï»¿CustomerID        CustomerName         Region SignupDate\n",
       "0         C0001    Lawrence Carroll  South America 2022-07-10\n",
       "1         C0002      Elizabeth Lutz           Asia 2022-02-13\n",
       "2         C0003      Michael Rivera  South America 2024-03-07\n",
       "3         C0004  Kathleen Rodriguez  South America 2022-10-09\n",
       "4         C0005         Laura Weber           Asia 2022-08-15"
      ]
     },
     "execution_count": 12,
     "metadata": {},
     "output_type": "execute_result"
    }
   ],
   "source": [
    "data = pd.read_excel('Customers.csv.xlsx')\n",
    "data.head()"
   ]
  },
  {
   "cell_type": "code",
   "execution_count": 13,
   "id": "3072eb9c-8a20-444d-9afd-0a716541cfe6",
   "metadata": {},
   "outputs": [
    {
     "data": {
      "text/plain": [
       "(200, 4)"
      ]
     },
     "execution_count": 13,
     "metadata": {},
     "output_type": "execute_result"
    }
   ],
   "source": [
    "data.shape"
   ]
  },
  {
   "cell_type": "code",
   "execution_count": 15,
   "id": "1bb1b013-4e24-4e0a-a7fc-1f5dcf83db01",
   "metadata": {},
   "outputs": [
    {
     "data": {
      "text/plain": [
       "Index(['ï»¿CustomerID', 'CustomerName', 'Region', 'SignupDate'], dtype='object')"
      ]
     },
     "execution_count": 15,
     "metadata": {},
     "output_type": "execute_result"
    }
   ],
   "source": [
    "data.columns"
   ]
  },
  {
   "cell_type": "code",
   "execution_count": 16,
   "id": "5379ed44-0dec-41f4-8f53-c0acf531d6c6",
   "metadata": {},
   "outputs": [
    {
     "data": {
      "text/plain": [
       "ï»¿CustomerID            object\n",
       "CustomerName             object\n",
       "Region                   object\n",
       "SignupDate       datetime64[ns]\n",
       "dtype: object"
      ]
     },
     "execution_count": 16,
     "metadata": {},
     "output_type": "execute_result"
    }
   ],
   "source": [
    "data.dtypes"
   ]
  },
  {
   "cell_type": "code",
   "execution_count": 18,
   "id": "24825755-118d-41e0-8050-04e525273d2c",
   "metadata": {},
   "outputs": [
    {
     "data": {
      "text/html": [
       "<div>\n",
       "<style scoped>\n",
       "    .dataframe tbody tr th:only-of-type {\n",
       "        vertical-align: middle;\n",
       "    }\n",
       "\n",
       "    .dataframe tbody tr th {\n",
       "        vertical-align: top;\n",
       "    }\n",
       "\n",
       "    .dataframe thead th {\n",
       "        text-align: right;\n",
       "    }\n",
       "</style>\n",
       "<table border=\"1\" class=\"dataframe\">\n",
       "  <thead>\n",
       "    <tr style=\"text-align: right;\">\n",
       "      <th></th>\n",
       "      <th>SignupDate</th>\n",
       "    </tr>\n",
       "  </thead>\n",
       "  <tbody>\n",
       "    <tr>\n",
       "      <th>count</th>\n",
       "      <td>200</td>\n",
       "    </tr>\n",
       "    <tr>\n",
       "      <th>mean</th>\n",
       "      <td>2023-07-19 08:31:12</td>\n",
       "    </tr>\n",
       "    <tr>\n",
       "      <th>min</th>\n",
       "      <td>2022-01-22 00:00:00</td>\n",
       "    </tr>\n",
       "    <tr>\n",
       "      <th>25%</th>\n",
       "      <td>2022-09-26 12:00:00</td>\n",
       "    </tr>\n",
       "    <tr>\n",
       "      <th>50%</th>\n",
       "      <td>2023-08-31 12:00:00</td>\n",
       "    </tr>\n",
       "    <tr>\n",
       "      <th>75%</th>\n",
       "      <td>2024-04-12 12:00:00</td>\n",
       "    </tr>\n",
       "    <tr>\n",
       "      <th>max</th>\n",
       "      <td>2024-12-28 00:00:00</td>\n",
       "    </tr>\n",
       "  </tbody>\n",
       "</table>\n",
       "</div>"
      ],
      "text/plain": [
       "                SignupDate\n",
       "count                  200\n",
       "mean   2023-07-19 08:31:12\n",
       "min    2022-01-22 00:00:00\n",
       "25%    2022-09-26 12:00:00\n",
       "50%    2023-08-31 12:00:00\n",
       "75%    2024-04-12 12:00:00\n",
       "max    2024-12-28 00:00:00"
      ]
     },
     "execution_count": 18,
     "metadata": {},
     "output_type": "execute_result"
    }
   ],
   "source": [
    "data.describe()"
   ]
  },
  {
   "cell_type": "markdown",
   "id": "9efb5a34-f269-4b85-8fba-573c58b94337",
   "metadata": {},
   "source": [
    "**Number of null values in the columns**"
   ]
  },
  {
   "cell_type": "code",
   "execution_count": 21,
   "id": "7bf96638-f3bf-41bc-af05-3bfa6660e473",
   "metadata": {},
   "outputs": [
    {
     "data": {
      "text/plain": [
       "ï»¿CustomerID    0\n",
       "CustomerName     0\n",
       "Region           0\n",
       "SignupDate       0\n",
       "dtype: int64"
      ]
     },
     "execution_count": 21,
     "metadata": {},
     "output_type": "execute_result"
    }
   ],
   "source": [
    "data.isnull().sum()"
   ]
  },
  {
   "cell_type": "code",
   "execution_count": 24,
   "id": "a4ec8d76-1347-4972-abb3-1ee3c412ef5a",
   "metadata": {},
   "outputs": [
    {
     "data": {
      "text/html": [
       "<div>\n",
       "<style scoped>\n",
       "    .dataframe tbody tr th:only-of-type {\n",
       "        vertical-align: middle;\n",
       "    }\n",
       "\n",
       "    .dataframe tbody tr th {\n",
       "        vertical-align: top;\n",
       "    }\n",
       "\n",
       "    .dataframe thead th {\n",
       "        text-align: right;\n",
       "    }\n",
       "</style>\n",
       "<table border=\"1\" class=\"dataframe\">\n",
       "  <thead>\n",
       "    <tr style=\"text-align: right;\">\n",
       "      <th></th>\n",
       "      <th>ï»¿CustomerID</th>\n",
       "      <th>CustomerName</th>\n",
       "      <th>Region</th>\n",
       "      <th>SignupDate</th>\n",
       "    </tr>\n",
       "  </thead>\n",
       "  <tbody>\n",
       "    <tr>\n",
       "      <th>0</th>\n",
       "      <td>C0001</td>\n",
       "      <td>Lawrence Carroll</td>\n",
       "      <td>South America</td>\n",
       "      <td>2022-07-10</td>\n",
       "    </tr>\n",
       "    <tr>\n",
       "      <th>1</th>\n",
       "      <td>C0002</td>\n",
       "      <td>Elizabeth Lutz</td>\n",
       "      <td>Asia</td>\n",
       "      <td>2022-02-13</td>\n",
       "    </tr>\n",
       "    <tr>\n",
       "      <th>2</th>\n",
       "      <td>C0003</td>\n",
       "      <td>Michael Rivera</td>\n",
       "      <td>South America</td>\n",
       "      <td>2024-03-07</td>\n",
       "    </tr>\n",
       "    <tr>\n",
       "      <th>3</th>\n",
       "      <td>C0004</td>\n",
       "      <td>Kathleen Rodriguez</td>\n",
       "      <td>South America</td>\n",
       "      <td>2022-10-09</td>\n",
       "    </tr>\n",
       "    <tr>\n",
       "      <th>4</th>\n",
       "      <td>C0005</td>\n",
       "      <td>Laura Weber</td>\n",
       "      <td>Asia</td>\n",
       "      <td>2022-08-15</td>\n",
       "    </tr>\n",
       "    <tr>\n",
       "      <th>5</th>\n",
       "      <td>C0006</td>\n",
       "      <td>Brittany Palmer</td>\n",
       "      <td>South America</td>\n",
       "      <td>2024-01-07</td>\n",
       "    </tr>\n",
       "    <tr>\n",
       "      <th>6</th>\n",
       "      <td>C0007</td>\n",
       "      <td>Paul Graves</td>\n",
       "      <td>Asia</td>\n",
       "      <td>2022-06-18</td>\n",
       "    </tr>\n",
       "    <tr>\n",
       "      <th>7</th>\n",
       "      <td>C0008</td>\n",
       "      <td>David Li</td>\n",
       "      <td>North America</td>\n",
       "      <td>2024-01-13</td>\n",
       "    </tr>\n",
       "    <tr>\n",
       "      <th>8</th>\n",
       "      <td>C0009</td>\n",
       "      <td>Joy Clark</td>\n",
       "      <td>Europe</td>\n",
       "      <td>2023-08-14</td>\n",
       "    </tr>\n",
       "    <tr>\n",
       "      <th>9</th>\n",
       "      <td>C0010</td>\n",
       "      <td>Aaron Cox</td>\n",
       "      <td>Europe</td>\n",
       "      <td>2022-12-15</td>\n",
       "    </tr>\n",
       "    <tr>\n",
       "      <th>10</th>\n",
       "      <td>C0011</td>\n",
       "      <td>Bryan Mathews</td>\n",
       "      <td>South America</td>\n",
       "      <td>2022-12-12</td>\n",
       "    </tr>\n",
       "    <tr>\n",
       "      <th>11</th>\n",
       "      <td>C0012</td>\n",
       "      <td>Kevin May</td>\n",
       "      <td>South America</td>\n",
       "      <td>2024-08-07</td>\n",
       "    </tr>\n",
       "    <tr>\n",
       "      <th>12</th>\n",
       "      <td>C0013</td>\n",
       "      <td>Lauren Buchanan</td>\n",
       "      <td>South America</td>\n",
       "      <td>2024-05-19</td>\n",
       "    </tr>\n",
       "    <tr>\n",
       "      <th>13</th>\n",
       "      <td>C0014</td>\n",
       "      <td>Deborah Wilcox</td>\n",
       "      <td>Europe</td>\n",
       "      <td>2024-06-22</td>\n",
       "    </tr>\n",
       "    <tr>\n",
       "      <th>14</th>\n",
       "      <td>C0015</td>\n",
       "      <td>Tina Duran</td>\n",
       "      <td>North America</td>\n",
       "      <td>2023-11-20</td>\n",
       "    </tr>\n",
       "    <tr>\n",
       "      <th>15</th>\n",
       "      <td>C0016</td>\n",
       "      <td>Emily Woods</td>\n",
       "      <td>North America</td>\n",
       "      <td>2024-01-03</td>\n",
       "    </tr>\n",
       "    <tr>\n",
       "      <th>16</th>\n",
       "      <td>C0017</td>\n",
       "      <td>Jennifer King</td>\n",
       "      <td>Europe</td>\n",
       "      <td>2023-12-05</td>\n",
       "    </tr>\n",
       "    <tr>\n",
       "      <th>17</th>\n",
       "      <td>C0018</td>\n",
       "      <td>Tyler Haynes</td>\n",
       "      <td>North America</td>\n",
       "      <td>2024-09-21</td>\n",
       "    </tr>\n",
       "    <tr>\n",
       "      <th>18</th>\n",
       "      <td>C0019</td>\n",
       "      <td>Brandon Rodriguez</td>\n",
       "      <td>Europe</td>\n",
       "      <td>2023-01-12</td>\n",
       "    </tr>\n",
       "    <tr>\n",
       "      <th>19</th>\n",
       "      <td>C0020</td>\n",
       "      <td>Mr. Manuel Conway</td>\n",
       "      <td>North America</td>\n",
       "      <td>2024-06-11</td>\n",
       "    </tr>\n",
       "    <tr>\n",
       "      <th>20</th>\n",
       "      <td>C0021</td>\n",
       "      <td>Robert Blanchard</td>\n",
       "      <td>Asia</td>\n",
       "      <td>2023-04-17</td>\n",
       "    </tr>\n",
       "    <tr>\n",
       "      <th>21</th>\n",
       "      <td>C0022</td>\n",
       "      <td>Teresa Esparza</td>\n",
       "      <td>Asia</td>\n",
       "      <td>2023-10-27</td>\n",
       "    </tr>\n",
       "    <tr>\n",
       "      <th>22</th>\n",
       "      <td>C0023</td>\n",
       "      <td>Nicholas Cain</td>\n",
       "      <td>Europe</td>\n",
       "      <td>2022-03-04</td>\n",
       "    </tr>\n",
       "    <tr>\n",
       "      <th>23</th>\n",
       "      <td>C0024</td>\n",
       "      <td>Michele Cooley</td>\n",
       "      <td>North America</td>\n",
       "      <td>2024-02-05</td>\n",
       "    </tr>\n",
       "    <tr>\n",
       "      <th>24</th>\n",
       "      <td>C0025</td>\n",
       "      <td>Gregory Odom</td>\n",
       "      <td>South America</td>\n",
       "      <td>2022-07-04</td>\n",
       "    </tr>\n",
       "    <tr>\n",
       "      <th>25</th>\n",
       "      <td>C0026</td>\n",
       "      <td>Sara Miller</td>\n",
       "      <td>North America</td>\n",
       "      <td>2024-05-03</td>\n",
       "    </tr>\n",
       "    <tr>\n",
       "      <th>26</th>\n",
       "      <td>C0027</td>\n",
       "      <td>Justin Heath</td>\n",
       "      <td>Asia</td>\n",
       "      <td>2022-11-09</td>\n",
       "    </tr>\n",
       "    <tr>\n",
       "      <th>27</th>\n",
       "      <td>C0028</td>\n",
       "      <td>Jennifer Pena</td>\n",
       "      <td>Asia</td>\n",
       "      <td>2024-06-29</td>\n",
       "    </tr>\n",
       "    <tr>\n",
       "      <th>28</th>\n",
       "      <td>C0029</td>\n",
       "      <td>Erin Manning</td>\n",
       "      <td>North America</td>\n",
       "      <td>2022-04-16</td>\n",
       "    </tr>\n",
       "    <tr>\n",
       "      <th>29</th>\n",
       "      <td>C0030</td>\n",
       "      <td>Mark Brock</td>\n",
       "      <td>North America</td>\n",
       "      <td>2024-01-30</td>\n",
       "    </tr>\n",
       "    <tr>\n",
       "      <th>30</th>\n",
       "      <td>C0031</td>\n",
       "      <td>Tina Miller</td>\n",
       "      <td>South America</td>\n",
       "      <td>2024-04-11</td>\n",
       "    </tr>\n",
       "    <tr>\n",
       "      <th>31</th>\n",
       "      <td>C0032</td>\n",
       "      <td>Dustin Campbell</td>\n",
       "      <td>South America</td>\n",
       "      <td>2024-04-17</td>\n",
       "    </tr>\n",
       "    <tr>\n",
       "      <th>32</th>\n",
       "      <td>C0033</td>\n",
       "      <td>Tyler Holt</td>\n",
       "      <td>North America</td>\n",
       "      <td>2024-08-04</td>\n",
       "    </tr>\n",
       "    <tr>\n",
       "      <th>33</th>\n",
       "      <td>C0034</td>\n",
       "      <td>Dalton Perez</td>\n",
       "      <td>North America</td>\n",
       "      <td>2023-09-27</td>\n",
       "    </tr>\n",
       "    <tr>\n",
       "      <th>34</th>\n",
       "      <td>C0035</td>\n",
       "      <td>Brianna Richardson</td>\n",
       "      <td>North America</td>\n",
       "      <td>2024-10-01</td>\n",
       "    </tr>\n",
       "    <tr>\n",
       "      <th>35</th>\n",
       "      <td>C0036</td>\n",
       "      <td>Brian Aguilar DDS</td>\n",
       "      <td>North America</td>\n",
       "      <td>2024-07-06</td>\n",
       "    </tr>\n",
       "    <tr>\n",
       "      <th>36</th>\n",
       "      <td>C0037</td>\n",
       "      <td>Linda Smith</td>\n",
       "      <td>Europe</td>\n",
       "      <td>2023-02-04</td>\n",
       "    </tr>\n",
       "    <tr>\n",
       "      <th>37</th>\n",
       "      <td>C0038</td>\n",
       "      <td>Jeffrey Perkins</td>\n",
       "      <td>North America</td>\n",
       "      <td>2022-04-16</td>\n",
       "    </tr>\n",
       "    <tr>\n",
       "      <th>38</th>\n",
       "      <td>C0039</td>\n",
       "      <td>Angela Harris</td>\n",
       "      <td>South America</td>\n",
       "      <td>2024-10-13</td>\n",
       "    </tr>\n",
       "    <tr>\n",
       "      <th>39</th>\n",
       "      <td>C0040</td>\n",
       "      <td>Michael Harrell</td>\n",
       "      <td>Asia</td>\n",
       "      <td>2022-03-07</td>\n",
       "    </tr>\n",
       "    <tr>\n",
       "      <th>40</th>\n",
       "      <td>C0041</td>\n",
       "      <td>Lindsey Deleon</td>\n",
       "      <td>Europe</td>\n",
       "      <td>2023-12-27</td>\n",
       "    </tr>\n",
       "    <tr>\n",
       "      <th>41</th>\n",
       "      <td>C0042</td>\n",
       "      <td>Heather Riley</td>\n",
       "      <td>North America</td>\n",
       "      <td>2023-03-15</td>\n",
       "    </tr>\n",
       "    <tr>\n",
       "      <th>42</th>\n",
       "      <td>C0043</td>\n",
       "      <td>Sandy Short MD</td>\n",
       "      <td>Asia</td>\n",
       "      <td>2023-02-05</td>\n",
       "    </tr>\n",
       "    <tr>\n",
       "      <th>43</th>\n",
       "      <td>C0044</td>\n",
       "      <td>Kenneth Alexander</td>\n",
       "      <td>Europe</td>\n",
       "      <td>2024-07-10</td>\n",
       "    </tr>\n",
       "    <tr>\n",
       "      <th>44</th>\n",
       "      <td>C0045</td>\n",
       "      <td>Michael Williams</td>\n",
       "      <td>Asia</td>\n",
       "      <td>2022-02-25</td>\n",
       "    </tr>\n",
       "    <tr>\n",
       "      <th>45</th>\n",
       "      <td>C0046</td>\n",
       "      <td>Beth Cardenas</td>\n",
       "      <td>North America</td>\n",
       "      <td>2024-10-23</td>\n",
       "    </tr>\n",
       "    <tr>\n",
       "      <th>46</th>\n",
       "      <td>C0047</td>\n",
       "      <td>Samantha Frank</td>\n",
       "      <td>North America</td>\n",
       "      <td>2024-03-22</td>\n",
       "    </tr>\n",
       "    <tr>\n",
       "      <th>47</th>\n",
       "      <td>C0048</td>\n",
       "      <td>Matthew Park</td>\n",
       "      <td>South America</td>\n",
       "      <td>2024-11-07</td>\n",
       "    </tr>\n",
       "    <tr>\n",
       "      <th>48</th>\n",
       "      <td>C0049</td>\n",
       "      <td>Jason Yates</td>\n",
       "      <td>North America</td>\n",
       "      <td>2024-09-18</td>\n",
       "    </tr>\n",
       "    <tr>\n",
       "      <th>49</th>\n",
       "      <td>C0050</td>\n",
       "      <td>Ryan Davis</td>\n",
       "      <td>North America</td>\n",
       "      <td>2024-03-02</td>\n",
       "    </tr>\n",
       "  </tbody>\n",
       "</table>\n",
       "</div>"
      ],
      "text/plain": [
       "   ï»¿CustomerID        CustomerName         Region SignupDate\n",
       "0          C0001    Lawrence Carroll  South America 2022-07-10\n",
       "1          C0002      Elizabeth Lutz           Asia 2022-02-13\n",
       "2          C0003      Michael Rivera  South America 2024-03-07\n",
       "3          C0004  Kathleen Rodriguez  South America 2022-10-09\n",
       "4          C0005         Laura Weber           Asia 2022-08-15\n",
       "5          C0006     Brittany Palmer  South America 2024-01-07\n",
       "6          C0007         Paul Graves           Asia 2022-06-18\n",
       "7          C0008            David Li  North America 2024-01-13\n",
       "8          C0009           Joy Clark         Europe 2023-08-14\n",
       "9          C0010           Aaron Cox         Europe 2022-12-15\n",
       "10         C0011       Bryan Mathews  South America 2022-12-12\n",
       "11         C0012           Kevin May  South America 2024-08-07\n",
       "12         C0013     Lauren Buchanan  South America 2024-05-19\n",
       "13         C0014      Deborah Wilcox         Europe 2024-06-22\n",
       "14         C0015          Tina Duran  North America 2023-11-20\n",
       "15         C0016         Emily Woods  North America 2024-01-03\n",
       "16         C0017       Jennifer King         Europe 2023-12-05\n",
       "17         C0018        Tyler Haynes  North America 2024-09-21\n",
       "18         C0019   Brandon Rodriguez         Europe 2023-01-12\n",
       "19         C0020   Mr. Manuel Conway  North America 2024-06-11\n",
       "20         C0021    Robert Blanchard           Asia 2023-04-17\n",
       "21         C0022      Teresa Esparza           Asia 2023-10-27\n",
       "22         C0023       Nicholas Cain         Europe 2022-03-04\n",
       "23         C0024      Michele Cooley  North America 2024-02-05\n",
       "24         C0025        Gregory Odom  South America 2022-07-04\n",
       "25         C0026         Sara Miller  North America 2024-05-03\n",
       "26         C0027        Justin Heath           Asia 2022-11-09\n",
       "27         C0028       Jennifer Pena           Asia 2024-06-29\n",
       "28         C0029        Erin Manning  North America 2022-04-16\n",
       "29         C0030          Mark Brock  North America 2024-01-30\n",
       "30         C0031         Tina Miller  South America 2024-04-11\n",
       "31         C0032     Dustin Campbell  South America 2024-04-17\n",
       "32         C0033          Tyler Holt  North America 2024-08-04\n",
       "33         C0034        Dalton Perez  North America 2023-09-27\n",
       "34         C0035  Brianna Richardson  North America 2024-10-01\n",
       "35         C0036   Brian Aguilar DDS  North America 2024-07-06\n",
       "36         C0037         Linda Smith         Europe 2023-02-04\n",
       "37         C0038     Jeffrey Perkins  North America 2022-04-16\n",
       "38         C0039       Angela Harris  South America 2024-10-13\n",
       "39         C0040     Michael Harrell           Asia 2022-03-07\n",
       "40         C0041      Lindsey Deleon         Europe 2023-12-27\n",
       "41         C0042       Heather Riley  North America 2023-03-15\n",
       "42         C0043      Sandy Short MD           Asia 2023-02-05\n",
       "43         C0044   Kenneth Alexander         Europe 2024-07-10\n",
       "44         C0045    Michael Williams           Asia 2022-02-25\n",
       "45         C0046       Beth Cardenas  North America 2024-10-23\n",
       "46         C0047      Samantha Frank  North America 2024-03-22\n",
       "47         C0048        Matthew Park  South America 2024-11-07\n",
       "48         C0049         Jason Yates  North America 2024-09-18\n",
       "49         C0050          Ryan Davis  North America 2024-03-02"
      ]
     },
     "execution_count": 24,
     "metadata": {},
     "output_type": "execute_result"
    }
   ],
   "source": [
    "data.head(50)"
   ]
  },
  {
   "cell_type": "markdown",
   "id": "028609b8-8549-41c5-86ce-f73a471333c7",
   "metadata": {},
   "source": [
    "**Boxplotting**"
   ]
  },
  {
   "cell_type": "code",
   "execution_count": 28,
   "id": "7eddfe82-e830-4947-82d3-6a4830c4715e",
   "metadata": {},
   "outputs": [
    {
     "data": {
      "text/plain": [
       "<Axes: >"
      ]
     },
     "execution_count": 28,
     "metadata": {},
     "output_type": "execute_result"
    },
    {
     "data": {
      "image/png": "[encoded data removed]",
      "text/plain": [
       "<Figure size 5000x5000 with 1 Axes>"
      ]
     },
     "metadata": {},
     "output_type": "display_data"
    }
   ],
   "source": [
    "fig,ax = plt.subplots(figsize=(50,50))\n",
    "sns.boxplot(data = data,ax=ax)\n"
   ]
  },
  {
   "cell_type": "code",
   "execution_count": null,
   "id": "2461efa7-dea3-47dc-8cea-60bca244c171",
   "metadata": {},
   "outputs": [],
   "source": [
    "q=data['coloumn'].quantile(0.99)\n",
    "newData = data[data['coloumn']<q]\n",
    "fig,ax =  plt.subplots(figsize=(50,50))\n",
    "sns.boxplot(data = data,ax=ax)"
   ]
  },
  {
   "cell_type": "markdown",
   "id": "db06a809-3559-42a7-8851-9644dddb6795",
   "metadata": {},
   "source": [
    "**Corelation coefficient heatmap- Features selection Technique**"
   ]
  },
  {
   "cell_type": "code",
   "execution_count": 38,
   "id": "ac375f51-8dc3-4d5f-a978-995c63b5bebc",
   "metadata": {},
   "outputs": [
    {
     "data": {
      "text/plain": [
       "<seaborn.axisgrid.FacetGrid at 0x1d971f03dd0>"
      ]
     },
     "execution_count": 38,
     "metadata": {},
     "output_type": "execute_result"
    },
    {
     "data": {
      "image/png": "[encoded data removed]",
      "text/plain": [
       "<Figure size 500x500 with 1 Axes>"
      ]
     },
     "metadata": {},
     "output_type": "display_data"
    }
   ],
   "source": [
    "sns.displot(data.Region)"
   ]
  },
  {
   "cell_type": "code",
   "execution_count": 39,
   "id": "a5d326a5-fcd0-4544-a05a-4320ec2f9994",
   "metadata": {},
   "outputs": [
    {
     "data": {
      "text/plain": [
       "<seaborn.axisgrid.FacetGrid at 0x1d9628d36b0>"
      ]
     },
     "execution_count": 39,
     "metadata": {},
     "output_type": "execute_result"
    },
    {
     "data": {
      "image/png": "[encoded data removed]",
      "text/plain": [
       "<Figure size 500x500 with 1 Axes>"
      ]
     },
     "metadata": {},
     "output_type": "display_data"
    }
   ],
   "source": [
    "sns.displot(data.SignupDate)"
   ]
  },
  {
   "cell_type": "markdown",
   "id": "277aa95b-9b24-4f26-a507-149adbd63601",
   "metadata": {},
   "source": [
    "**Classification Task:To check wheather the data is balanced or not**"
   ]
  },
  {
   "cell_type": "code",
   "execution_count": 41,
   "id": "10c69c31-f11d-450b-9ac3-97edceca1f64",
   "metadata": {},
   "outputs": [
    {
     "data": {
      "text/plain": [
       "Region\n",
       "South America    59\n",
       "Europe           50\n",
       "North America    46\n",
       "Asia             45\n",
       "Name: count, dtype: int64"
      ]
     },
     "execution_count": 41,
     "metadata": {},
     "output_type": "execute_result"
    }
   ],
   "source": [
    "data.Region.value_counts()"
   ]
  },
  {
   "cell_type": "code",
   "execution_count": 42,
   "id": "1de31195-3f11-4f2f-b587-86c2de5efafb",
   "metadata": {},
   "outputs": [
    {
     "data": {
      "text/plain": [
       "SignupDate\n",
       "2024-11-11    3\n",
       "2022-04-16    3\n",
       "2024-02-05    2\n",
       "2024-09-17    2\n",
       "2022-03-14    2\n",
       "             ..\n",
       "2022-03-15    1\n",
       "2022-07-01    1\n",
       "2024-07-24    1\n",
       "2022-08-20    1\n",
       "2023-06-11    1\n",
       "Name: count, Length: 179, dtype: int64"
      ]
     },
     "execution_count": 42,
     "metadata": {},
     "output_type": "execute_result"
    }
   ],
   "source": [
    "data.SignupDate.value_counts()"
   ]
  },
  {
   "cell_type": "markdown",
   "id": "05140fcd-717b-45ee-ba23-517d5a791187",
   "metadata": {},
   "source": [
    "# Reading the Products data"
   ]
  },
  {
   "cell_type": "code",
   "execution_count": 44,
   "id": "5b5be52f-ec31-4fe1-b699-861a85c81f3a",
   "metadata": {},
   "outputs": [
    {
     "data": {
      "text/html": [
       "<div>\n",
       "<style scoped>\n",
       "    .dataframe tbody tr th:only-of-type {\n",
       "        vertical-align: middle;\n",
       "    }\n",
       "\n",
       "    .dataframe tbody tr th {\n",
       "        vertical-align: top;\n",
       "    }\n",
       "\n",
       "    .dataframe thead th {\n",
       "        text-align: right;\n",
       "    }\n",
       "</style>\n",
       "<table border=\"1\" class=\"dataframe\">\n",
       "  <thead>\n",
       "    <tr style=\"text-align: right;\">\n",
       "      <th></th>\n",
       "      <th>ï»¿ProductID</th>\n",
       "      <th>ProductName</th>\n",
       "      <th>Category</th>\n",
       "      <th>Price</th>\n",
       "    </tr>\n",
       "  </thead>\n",
       "  <tbody>\n",
       "    <tr>\n",
       "      <th>0</th>\n",
       "      <td>P001</td>\n",
       "      <td>ActiveWear Biography</td>\n",
       "      <td>Books</td>\n",
       "      <td>169.30</td>\n",
       "    </tr>\n",
       "    <tr>\n",
       "      <th>1</th>\n",
       "      <td>P002</td>\n",
       "      <td>ActiveWear Smartwatch</td>\n",
       "      <td>Electronics</td>\n",
       "      <td>346.30</td>\n",
       "    </tr>\n",
       "    <tr>\n",
       "      <th>2</th>\n",
       "      <td>P003</td>\n",
       "      <td>ComfortLiving Biography</td>\n",
       "      <td>Books</td>\n",
       "      <td>44.12</td>\n",
       "    </tr>\n",
       "    <tr>\n",
       "      <th>3</th>\n",
       "      <td>P004</td>\n",
       "      <td>BookWorld Rug</td>\n",
       "      <td>Home Decor</td>\n",
       "      <td>95.69</td>\n",
       "    </tr>\n",
       "    <tr>\n",
       "      <th>4</th>\n",
       "      <td>P005</td>\n",
       "      <td>TechPro T-Shirt</td>\n",
       "      <td>Clothing</td>\n",
       "      <td>429.31</td>\n",
       "    </tr>\n",
       "  </tbody>\n",
       "</table>\n",
       "</div>"
      ],
      "text/plain": [
       "  ï»¿ProductID              ProductName     Category   Price\n",
       "0         P001     ActiveWear Biography        Books  169.30\n",
       "1         P002    ActiveWear Smartwatch  Electronics  346.30\n",
       "2         P003  ComfortLiving Biography        Books   44.12\n",
       "3         P004            BookWorld Rug   Home Decor   95.69\n",
       "4         P005          TechPro T-Shirt     Clothing  429.31"
      ]
     },
     "execution_count": 44,
     "metadata": {},
     "output_type": "execute_result"
    }
   ],
   "source": [
    "data = pd.read_excel('Products.csv.xlsx')\n",
    "data.head()"
   ]
  },
  {
   "cell_type": "code",
   "execution_count": 45,
   "id": "e3b4f7ee-61ab-4b0e-9c39-6ac4478497dc",
   "metadata": {},
   "outputs": [
    {
     "data": {
      "text/plain": [
       "(100, 4)"
      ]
     },
     "execution_count": 45,
     "metadata": {},
     "output_type": "execute_result"
    }
   ],
   "source": [
    "data.shape"
   ]
  },
  {
   "cell_type": "code",
   "execution_count": 46,
   "id": "ad934c00-c061-495e-b5ad-86d7e8cb178c",
   "metadata": {},
   "outputs": [
    {
     "data": {
      "text/plain": [
       "Index(['ï»¿ProductID', 'ProductName', 'Category', 'Price'], dtype='object')"
      ]
     },
     "execution_count": 46,
     "metadata": {},
     "output_type": "execute_result"
    }
   ],
   "source": [
    "data.columns"
   ]
  },
  {
   "cell_type": "code",
   "execution_count": 47,
   "id": "60105263-3405-4767-a578-5721bfeadb4b",
   "metadata": {},
   "outputs": [
    {
     "data": {
      "text/plain": [
       "ï»¿ProductID     object\n",
       "ProductName      object\n",
       "Category         object\n",
       "Price           float64\n",
       "dtype: object"
      ]
     },
     "execution_count": 47,
     "metadata": {},
     "output_type": "execute_result"
    }
   ],
   "source": [
    "data.dtypes"
   ]
  },
  {
   "cell_type": "code",
   "execution_count": 48,
   "id": "95b709ec-273b-4bc4-a927-162585765342",
   "metadata": {},
   "outputs": [
    {
     "data": {
      "text/html": [
       "<div>\n",
       "<style scoped>\n",
       "    .dataframe tbody tr th:only-of-type {\n",
       "        vertical-align: middle;\n",
       "    }\n",
       "\n",
       "    .dataframe tbody tr th {\n",
       "        vertical-align: top;\n",
       "    }\n",
       "\n",
       "    .dataframe thead th {\n",
       "        text-align: right;\n",
       "    }\n",
       "</style>\n",
       "<table border=\"1\" class=\"dataframe\">\n",
       "  <thead>\n",
       "    <tr style=\"text-align: right;\">\n",
       "      <th></th>\n",
       "      <th>Price</th>\n",
       "    </tr>\n",
       "  </thead>\n",
       "  <tbody>\n",
       "    <tr>\n",
       "      <th>count</th>\n",
       "      <td>100.000000</td>\n",
       "    </tr>\n",
       "    <tr>\n",
       "      <th>mean</th>\n",
       "      <td>267.551700</td>\n",
       "    </tr>\n",
       "    <tr>\n",
       "      <th>std</th>\n",
       "      <td>143.219383</td>\n",
       "    </tr>\n",
       "    <tr>\n",
       "      <th>min</th>\n",
       "      <td>16.080000</td>\n",
       "    </tr>\n",
       "    <tr>\n",
       "      <th>25%</th>\n",
       "      <td>147.767500</td>\n",
       "    </tr>\n",
       "    <tr>\n",
       "      <th>50%</th>\n",
       "      <td>292.875000</td>\n",
       "    </tr>\n",
       "    <tr>\n",
       "      <th>75%</th>\n",
       "      <td>397.090000</td>\n",
       "    </tr>\n",
       "    <tr>\n",
       "      <th>max</th>\n",
       "      <td>497.760000</td>\n",
       "    </tr>\n",
       "  </tbody>\n",
       "</table>\n",
       "</div>"
      ],
      "text/plain": [
       "            Price\n",
       "count  100.000000\n",
       "mean   267.551700\n",
       "std    143.219383\n",
       "min     16.080000\n",
       "25%    147.767500\n",
       "50%    292.875000\n",
       "75%    397.090000\n",
       "max    497.760000"
      ]
     },
     "execution_count": 48,
     "metadata": {},
     "output_type": "execute_result"
    }
   ],
   "source": [
    "data.describe()"
   ]
  },
  {
   "cell_type": "markdown",
   "id": "8f4d56c3-57d6-4613-ac23-0dcf41db0a0e",
   "metadata": {},
   "source": [
    "**Number of null values in the columns**"
   ]
  },
  {
   "cell_type": "code",
   "execution_count": 49,
   "id": "3794800c-cbd6-4168-8e54-1972dc742471",
   "metadata": {},
   "outputs": [
    {
     "data": {
      "text/plain": [
       "ï»¿ProductID    0\n",
       "ProductName     0\n",
       "Category        0\n",
       "Price           0\n",
       "dtype: int64"
      ]
     },
     "execution_count": 49,
     "metadata": {},
     "output_type": "execute_result"
    }
   ],
   "source": [
    "data.isnull().sum()"
   ]
  },
  {
   "cell_type": "code",
   "execution_count": 50,
   "id": "6ff4471f-3dca-44ea-8ba0-33691d7ef72c",
   "metadata": {},
   "outputs": [
    {
     "data": {
      "text/html": [
       "<div>\n",
       "<style scoped>\n",
       "    .dataframe tbody tr th:only-of-type {\n",
       "        vertical-align: middle;\n",
       "    }\n",
       "\n",
       "    .dataframe tbody tr th {\n",
       "        vertical-align: top;\n",
       "    }\n",
       "\n",
       "    .dataframe thead th {\n",
       "        text-align: right;\n",
       "    }\n",
       "</style>\n",
       "<table border=\"1\" class=\"dataframe\">\n",
       "  <thead>\n",
       "    <tr style=\"text-align: right;\">\n",
       "      <th></th>\n",
       "      <th>ï»¿ProductID</th>\n",
       "      <th>ProductName</th>\n",
       "      <th>Category</th>\n",
       "      <th>Price</th>\n",
       "    </tr>\n",
       "  </thead>\n",
       "  <tbody>\n",
       "    <tr>\n",
       "      <th>0</th>\n",
       "      <td>P001</td>\n",
       "      <td>ActiveWear Biography</td>\n",
       "      <td>Books</td>\n",
       "      <td>169.30</td>\n",
       "    </tr>\n",
       "    <tr>\n",
       "      <th>1</th>\n",
       "      <td>P002</td>\n",
       "      <td>ActiveWear Smartwatch</td>\n",
       "      <td>Electronics</td>\n",
       "      <td>346.30</td>\n",
       "    </tr>\n",
       "    <tr>\n",
       "      <th>2</th>\n",
       "      <td>P003</td>\n",
       "      <td>ComfortLiving Biography</td>\n",
       "      <td>Books</td>\n",
       "      <td>44.12</td>\n",
       "    </tr>\n",
       "    <tr>\n",
       "      <th>3</th>\n",
       "      <td>P004</td>\n",
       "      <td>BookWorld Rug</td>\n",
       "      <td>Home Decor</td>\n",
       "      <td>95.69</td>\n",
       "    </tr>\n",
       "    <tr>\n",
       "      <th>4</th>\n",
       "      <td>P005</td>\n",
       "      <td>TechPro T-Shirt</td>\n",
       "      <td>Clothing</td>\n",
       "      <td>429.31</td>\n",
       "    </tr>\n",
       "    <tr>\n",
       "      <th>5</th>\n",
       "      <td>P006</td>\n",
       "      <td>ActiveWear Rug</td>\n",
       "      <td>Home Decor</td>\n",
       "      <td>121.32</td>\n",
       "    </tr>\n",
       "    <tr>\n",
       "      <th>6</th>\n",
       "      <td>P007</td>\n",
       "      <td>SoundWave Cookbook</td>\n",
       "      <td>Books</td>\n",
       "      <td>420.15</td>\n",
       "    </tr>\n",
       "    <tr>\n",
       "      <th>7</th>\n",
       "      <td>P008</td>\n",
       "      <td>BookWorld Bluetooth Speaker</td>\n",
       "      <td>Electronics</td>\n",
       "      <td>146.85</td>\n",
       "    </tr>\n",
       "    <tr>\n",
       "      <th>8</th>\n",
       "      <td>P009</td>\n",
       "      <td>BookWorld Wall Art</td>\n",
       "      <td>Home Decor</td>\n",
       "      <td>325.01</td>\n",
       "    </tr>\n",
       "    <tr>\n",
       "      <th>9</th>\n",
       "      <td>P010</td>\n",
       "      <td>ComfortLiving Smartwatch</td>\n",
       "      <td>Electronics</td>\n",
       "      <td>350.13</td>\n",
       "    </tr>\n",
       "    <tr>\n",
       "      <th>10</th>\n",
       "      <td>P011</td>\n",
       "      <td>SoundWave Desk Lamp</td>\n",
       "      <td>Home Decor</td>\n",
       "      <td>261.20</td>\n",
       "    </tr>\n",
       "    <tr>\n",
       "      <th>11</th>\n",
       "      <td>P012</td>\n",
       "      <td>ComfortLiving Headphones</td>\n",
       "      <td>Electronics</td>\n",
       "      <td>159.60</td>\n",
       "    </tr>\n",
       "    <tr>\n",
       "      <th>12</th>\n",
       "      <td>P013</td>\n",
       "      <td>BookWorld Smartwatch</td>\n",
       "      <td>Electronics</td>\n",
       "      <td>114.20</td>\n",
       "    </tr>\n",
       "    <tr>\n",
       "      <th>13</th>\n",
       "      <td>P014</td>\n",
       "      <td>ActiveWear Jacket</td>\n",
       "      <td>Clothing</td>\n",
       "      <td>26.26</td>\n",
       "    </tr>\n",
       "    <tr>\n",
       "      <th>14</th>\n",
       "      <td>P015</td>\n",
       "      <td>HomeSense Headphones</td>\n",
       "      <td>Electronics</td>\n",
       "      <td>158.93</td>\n",
       "    </tr>\n",
       "    <tr>\n",
       "      <th>15</th>\n",
       "      <td>P016</td>\n",
       "      <td>ActiveWear Running Shoes</td>\n",
       "      <td>Clothing</td>\n",
       "      <td>330.05</td>\n",
       "    </tr>\n",
       "    <tr>\n",
       "      <th>16</th>\n",
       "      <td>P017</td>\n",
       "      <td>ActiveWear Textbook</td>\n",
       "      <td>Books</td>\n",
       "      <td>469.77</td>\n",
       "    </tr>\n",
       "    <tr>\n",
       "      <th>17</th>\n",
       "      <td>P018</td>\n",
       "      <td>ComfortLiving Mystery Book</td>\n",
       "      <td>Books</td>\n",
       "      <td>436.89</td>\n",
       "    </tr>\n",
       "    <tr>\n",
       "      <th>18</th>\n",
       "      <td>P019</td>\n",
       "      <td>ComfortLiving Sweater</td>\n",
       "      <td>Clothing</td>\n",
       "      <td>385.37</td>\n",
       "    </tr>\n",
       "    <tr>\n",
       "      <th>19</th>\n",
       "      <td>P020</td>\n",
       "      <td>ActiveWear Jacket</td>\n",
       "      <td>Clothing</td>\n",
       "      <td>396.34</td>\n",
       "    </tr>\n",
       "    <tr>\n",
       "      <th>20</th>\n",
       "      <td>P021</td>\n",
       "      <td>SoundWave Rug</td>\n",
       "      <td>Home Decor</td>\n",
       "      <td>335.84</td>\n",
       "    </tr>\n",
       "    <tr>\n",
       "      <th>21</th>\n",
       "      <td>P022</td>\n",
       "      <td>HomeSense Wall Art</td>\n",
       "      <td>Home Decor</td>\n",
       "      <td>137.54</td>\n",
       "    </tr>\n",
       "    <tr>\n",
       "      <th>22</th>\n",
       "      <td>P023</td>\n",
       "      <td>ActiveWear Cookware Set</td>\n",
       "      <td>Home Decor</td>\n",
       "      <td>454.53</td>\n",
       "    </tr>\n",
       "    <tr>\n",
       "      <th>23</th>\n",
       "      <td>P024</td>\n",
       "      <td>SoundWave Cookbook</td>\n",
       "      <td>Books</td>\n",
       "      <td>338.66</td>\n",
       "    </tr>\n",
       "    <tr>\n",
       "      <th>24</th>\n",
       "      <td>P025</td>\n",
       "      <td>ActiveWear Cookware Set</td>\n",
       "      <td>Home Decor</td>\n",
       "      <td>284.62</td>\n",
       "    </tr>\n",
       "    <tr>\n",
       "      <th>25</th>\n",
       "      <td>P026</td>\n",
       "      <td>SoundWave Bluetooth Speaker</td>\n",
       "      <td>Electronics</td>\n",
       "      <td>64.38</td>\n",
       "    </tr>\n",
       "    <tr>\n",
       "      <th>26</th>\n",
       "      <td>P027</td>\n",
       "      <td>SoundWave Headphones</td>\n",
       "      <td>Electronics</td>\n",
       "      <td>229.06</td>\n",
       "    </tr>\n",
       "    <tr>\n",
       "      <th>27</th>\n",
       "      <td>P028</td>\n",
       "      <td>HomeSense Desk Lamp</td>\n",
       "      <td>Home Decor</td>\n",
       "      <td>235.58</td>\n",
       "    </tr>\n",
       "    <tr>\n",
       "      <th>28</th>\n",
       "      <td>P029</td>\n",
       "      <td>TechPro Headphones</td>\n",
       "      <td>Electronics</td>\n",
       "      <td>433.64</td>\n",
       "    </tr>\n",
       "    <tr>\n",
       "      <th>29</th>\n",
       "      <td>P030</td>\n",
       "      <td>ActiveWear Cookbook</td>\n",
       "      <td>Books</td>\n",
       "      <td>277.86</td>\n",
       "    </tr>\n",
       "    <tr>\n",
       "      <th>30</th>\n",
       "      <td>P031</td>\n",
       "      <td>SoundWave Headphones</td>\n",
       "      <td>Electronics</td>\n",
       "      <td>196.40</td>\n",
       "    </tr>\n",
       "    <tr>\n",
       "      <th>31</th>\n",
       "      <td>P032</td>\n",
       "      <td>BookWorld Cookbook</td>\n",
       "      <td>Books</td>\n",
       "      <td>488.63</td>\n",
       "    </tr>\n",
       "    <tr>\n",
       "      <th>32</th>\n",
       "      <td>P033</td>\n",
       "      <td>TechPro T-Shirt</td>\n",
       "      <td>Clothing</td>\n",
       "      <td>64.25</td>\n",
       "    </tr>\n",
       "    <tr>\n",
       "      <th>33</th>\n",
       "      <td>P034</td>\n",
       "      <td>HomeSense T-Shirt</td>\n",
       "      <td>Clothing</td>\n",
       "      <td>217.05</td>\n",
       "    </tr>\n",
       "    <tr>\n",
       "      <th>34</th>\n",
       "      <td>P035</td>\n",
       "      <td>ActiveWear T-Shirt</td>\n",
       "      <td>Clothing</td>\n",
       "      <td>30.59</td>\n",
       "    </tr>\n",
       "    <tr>\n",
       "      <th>35</th>\n",
       "      <td>P036</td>\n",
       "      <td>BookWorld Jacket</td>\n",
       "      <td>Clothing</td>\n",
       "      <td>372.55</td>\n",
       "    </tr>\n",
       "    <tr>\n",
       "      <th>36</th>\n",
       "      <td>P037</td>\n",
       "      <td>SoundWave Smartwatch</td>\n",
       "      <td>Electronics</td>\n",
       "      <td>459.86</td>\n",
       "    </tr>\n",
       "    <tr>\n",
       "      <th>37</th>\n",
       "      <td>P038</td>\n",
       "      <td>TechPro Vase</td>\n",
       "      <td>Home Decor</td>\n",
       "      <td>147.22</td>\n",
       "    </tr>\n",
       "    <tr>\n",
       "      <th>38</th>\n",
       "      <td>P039</td>\n",
       "      <td>TechPro Smartwatch</td>\n",
       "      <td>Electronics</td>\n",
       "      <td>430.59</td>\n",
       "    </tr>\n",
       "    <tr>\n",
       "      <th>39</th>\n",
       "      <td>P040</td>\n",
       "      <td>SoundWave Mystery Book</td>\n",
       "      <td>Books</td>\n",
       "      <td>153.19</td>\n",
       "    </tr>\n",
       "    <tr>\n",
       "      <th>40</th>\n",
       "      <td>P041</td>\n",
       "      <td>ComfortLiving Smartphone</td>\n",
       "      <td>Electronics</td>\n",
       "      <td>456.28</td>\n",
       "    </tr>\n",
       "    <tr>\n",
       "      <th>41</th>\n",
       "      <td>P042</td>\n",
       "      <td>ActiveWear Headphones</td>\n",
       "      <td>Electronics</td>\n",
       "      <td>379.44</td>\n",
       "    </tr>\n",
       "    <tr>\n",
       "      <th>42</th>\n",
       "      <td>P043</td>\n",
       "      <td>SoundWave Novel</td>\n",
       "      <td>Books</td>\n",
       "      <td>404.40</td>\n",
       "    </tr>\n",
       "    <tr>\n",
       "      <th>43</th>\n",
       "      <td>P044</td>\n",
       "      <td>ActiveWear Running Shoes</td>\n",
       "      <td>Clothing</td>\n",
       "      <td>18.82</td>\n",
       "    </tr>\n",
       "    <tr>\n",
       "      <th>44</th>\n",
       "      <td>P045</td>\n",
       "      <td>SoundWave T-Shirt</td>\n",
       "      <td>Clothing</td>\n",
       "      <td>481.78</td>\n",
       "    </tr>\n",
       "    <tr>\n",
       "      <th>45</th>\n",
       "      <td>P046</td>\n",
       "      <td>BookWorld Sweater</td>\n",
       "      <td>Clothing</td>\n",
       "      <td>366.07</td>\n",
       "    </tr>\n",
       "    <tr>\n",
       "      <th>46</th>\n",
       "      <td>P047</td>\n",
       "      <td>ComfortLiving Cookware Set</td>\n",
       "      <td>Home Decor</td>\n",
       "      <td>159.33</td>\n",
       "    </tr>\n",
       "    <tr>\n",
       "      <th>47</th>\n",
       "      <td>P048</td>\n",
       "      <td>TechPro Cookbook</td>\n",
       "      <td>Books</td>\n",
       "      <td>416.40</td>\n",
       "    </tr>\n",
       "    <tr>\n",
       "      <th>48</th>\n",
       "      <td>P049</td>\n",
       "      <td>TechPro Textbook</td>\n",
       "      <td>Books</td>\n",
       "      <td>147.95</td>\n",
       "    </tr>\n",
       "    <tr>\n",
       "      <th>49</th>\n",
       "      <td>P050</td>\n",
       "      <td>ActiveWear Smartwatch</td>\n",
       "      <td>Electronics</td>\n",
       "      <td>437.65</td>\n",
       "    </tr>\n",
       "  </tbody>\n",
       "</table>\n",
       "</div>"
      ],
      "text/plain": [
       "   ï»¿ProductID                  ProductName     Category   Price\n",
       "0          P001         ActiveWear Biography        Books  169.30\n",
       "1          P002        ActiveWear Smartwatch  Electronics  346.30\n",
       "2          P003      ComfortLiving Biography        Books   44.12\n",
       "3          P004                BookWorld Rug   Home Decor   95.69\n",
       "4          P005              TechPro T-Shirt     Clothing  429.31\n",
       "5          P006               ActiveWear Rug   Home Decor  121.32\n",
       "6          P007           SoundWave Cookbook        Books  420.15\n",
       "7          P008  BookWorld Bluetooth Speaker  Electronics  146.85\n",
       "8          P009           BookWorld Wall Art   Home Decor  325.01\n",
       "9          P010     ComfortLiving Smartwatch  Electronics  350.13\n",
       "10         P011          SoundWave Desk Lamp   Home Decor  261.20\n",
       "11         P012     ComfortLiving Headphones  Electronics  159.60\n",
       "12         P013         BookWorld Smartwatch  Electronics  114.20\n",
       "13         P014            ActiveWear Jacket     Clothing   26.26\n",
       "14         P015         HomeSense Headphones  Electronics  158.93\n",
       "15         P016     ActiveWear Running Shoes     Clothing  330.05\n",
       "16         P017          ActiveWear Textbook        Books  469.77\n",
       "17         P018   ComfortLiving Mystery Book        Books  436.89\n",
       "18         P019        ComfortLiving Sweater     Clothing  385.37\n",
       "19         P020            ActiveWear Jacket     Clothing  396.34\n",
       "20         P021                SoundWave Rug   Home Decor  335.84\n",
       "21         P022           HomeSense Wall Art   Home Decor  137.54\n",
       "22         P023      ActiveWear Cookware Set   Home Decor  454.53\n",
       "23         P024           SoundWave Cookbook        Books  338.66\n",
       "24         P025      ActiveWear Cookware Set   Home Decor  284.62\n",
       "25         P026  SoundWave Bluetooth Speaker  Electronics   64.38\n",
       "26         P027         SoundWave Headphones  Electronics  229.06\n",
       "27         P028          HomeSense Desk Lamp   Home Decor  235.58\n",
       "28         P029           TechPro Headphones  Electronics  433.64\n",
       "29         P030          ActiveWear Cookbook        Books  277.86\n",
       "30         P031         SoundWave Headphones  Electronics  196.40\n",
       "31         P032           BookWorld Cookbook        Books  488.63\n",
       "32         P033              TechPro T-Shirt     Clothing   64.25\n",
       "33         P034            HomeSense T-Shirt     Clothing  217.05\n",
       "34         P035           ActiveWear T-Shirt     Clothing   30.59\n",
       "35         P036             BookWorld Jacket     Clothing  372.55\n",
       "36         P037         SoundWave Smartwatch  Electronics  459.86\n",
       "37         P038                 TechPro Vase   Home Decor  147.22\n",
       "38         P039           TechPro Smartwatch  Electronics  430.59\n",
       "39         P040       SoundWave Mystery Book        Books  153.19\n",
       "40         P041     ComfortLiving Smartphone  Electronics  456.28\n",
       "41         P042        ActiveWear Headphones  Electronics  379.44\n",
       "42         P043              SoundWave Novel        Books  404.40\n",
       "43         P044     ActiveWear Running Shoes     Clothing   18.82\n",
       "44         P045            SoundWave T-Shirt     Clothing  481.78\n",
       "45         P046            BookWorld Sweater     Clothing  366.07\n",
       "46         P047   ComfortLiving Cookware Set   Home Decor  159.33\n",
       "47         P048             TechPro Cookbook        Books  416.40\n",
       "48         P049             TechPro Textbook        Books  147.95\n",
       "49         P050        ActiveWear Smartwatch  Electronics  437.65"
      ]
     },
     "execution_count": 50,
     "metadata": {},
     "output_type": "execute_result"
    }
   ],
   "source": [
    "data.head(50)"
   ]
  },
  {
   "cell_type": "markdown",
   "id": "e41ddacf-3a9b-40b6-813c-87569311632a",
   "metadata": {},
   "source": [
    "**Box Plotting**"
   ]
  },
  {
   "cell_type": "code",
   "execution_count": 54,
   "id": "8103ba94-01fe-4cd4-8192-a6829c90f673",
   "metadata": {},
   "outputs": [
    {
     "data": {
      "text/plain": [
       "<Axes: >"
      ]
     },
     "execution_count": 54,
     "metadata": {},
     "output_type": "execute_result"
    },
    {
     "data": {
      "image/png": "[encoded data removed]",
      "text/plain": [
       "<Figure size 1000x1000 with 1 Axes>"
      ]
     },
     "metadata": {},
     "output_type": "display_data"
    }
   ],
   "source": [
    "fig,ax = plt.subplots(figsize=(10,10))\n",
    "sns.boxplot(data = data,ax=ax)"
   ]
  },
  {
   "cell_type": "code",
   "execution_count": 57,
   "id": "3d9b0a1a-1176-4e12-b028-6592405a97df",
   "metadata": {},
   "outputs": [
    {
     "data": {
      "text/plain": [
       "<seaborn.axisgrid.FacetGrid at 0x1d97254b080>"
      ]
     },
     "execution_count": 57,
     "metadata": {},
     "output_type": "execute_result"
    },
    {
     "data": {
      "image/png": "[encoded data removed]",
      "text/plain": [
       "<Figure size 500x500 with 1 Axes>"
      ]
     },
     "metadata": {},
     "output_type": "display_data"
    }
   ],
   "source": [
    "sns.displot(data.ProductName )"
   ]
  },
  {
   "cell_type": "code",
   "execution_count": 59,
   "id": "4f21a998-d04f-4646-b11c-715acce3e3a2",
   "metadata": {},
   "outputs": [
    {
     "data": {
      "text/plain": [
       "<seaborn.axisgrid.FacetGrid at 0x1d973570920>"
      ]
     },
     "execution_count": 59,
     "metadata": {},
     "output_type": "execute_result"
    },
    {
     "data": {
      "image/png": "[encoded data removed]",
      "text/plain": [
       "<Figure size 500x500 with 1 Axes>"
      ]
     },
     "metadata": {},
     "output_type": "display_data"
    }
   ],
   "source": [
    "sns.displot(data.Category)"
   ]
  },
  {
   "cell_type": "code",
   "execution_count": 60,
   "id": "4683f0fd-fe92-440e-a27b-e5f765ea4a36",
   "metadata": {},
   "outputs": [
    {
     "data": {
      "text/plain": [
       "<seaborn.axisgrid.FacetGrid at 0x1d9735fcc80>"
      ]
     },
     "execution_count": 60,
     "metadata": {},
     "output_type": "execute_result"
    },
    {
     "data": {
      "image/png": "[encoded data removed]",
      "text/plain": [
       "<Figure size 500x500 with 1 Axes>"
      ]
     },
     "metadata": {},
     "output_type": "display_data"
    }
   ],
   "source": [
    "sns.displot(data.Price)"
   ]
  },
  {
   "cell_type": "markdown",
   "id": "9b092b43-505d-4149-a957-108d01ba71b9",
   "metadata": {},
   "source": [
    "**Corelation coefficient heatmap- Features selection Technique**"
   ]
  },
  {
   "cell_type": "code",
   "execution_count": 63,
   "id": "7200127c-ab71-4c67-930b-806da5d5927a",
   "metadata": {},
   "outputs": [],
   "source": [
    "numeric_data = data.select_dtypes(include='number')\n"
   ]
  },
  {
   "cell_type": "code",
   "execution_count": 64,
   "id": "db3113e5-85a8-4d3e-80f2-1e75293299b2",
   "metadata": {},
   "outputs": [
    {
     "data": {
      "image/png": "[encoded data removed]",
      "text/plain": [
       "<Figure size 1500x1500 with 2 Axes>"
      ]
     },
     "metadata": {},
     "output_type": "display_data"
    }
   ],
   "source": [
    "plt.figure(figsize=(15, 15))\n",
    "ax = sns.heatmap(numeric_data.corr(), annot=True)\n",
    "plt.show()"
   ]
  },
  {
   "cell_type": "markdown",
   "id": "297a5eef-c09c-4f09-aae7-77fa10cada6f",
   "metadata": {},
   "source": [
    "**Classification Task:To check wheather the data is balanced or not**"
   ]
  },
  {
   "cell_type": "code",
   "execution_count": 66,
   "id": "4ea617f9-485d-45c2-9341-6d11497eebb3",
   "metadata": {},
   "outputs": [
    {
     "data": {
      "text/plain": [
       "ProductName\n",
       "ActiveWear Smartwatch         4\n",
       "SoundWave Headphones          4\n",
       "BookWorld Biography           3\n",
       "TechPro T-Shirt               3\n",
       "SoundWave Cookbook            3\n",
       "                             ..\n",
       "BookWorld Jacket              1\n",
       "ComfortLiving Smartphone      1\n",
       "SoundWave T-Shirt             1\n",
       "ComfortLiving Cookware Set    1\n",
       "SoundWave Laptop              1\n",
       "Name: count, Length: 66, dtype: int64"
      ]
     },
     "execution_count": 66,
     "metadata": {},
     "output_type": "execute_result"
    }
   ],
   "source": [
    "data.ProductName.value_counts()"
   ]
  },
  {
   "cell_type": "code",
   "execution_count": 67,
   "id": "c4e04dfa-1fd6-4db1-a7d5-4101a81d1b3e",
   "metadata": {},
   "outputs": [
    {
     "data": {
      "text/plain": [
       "Category\n",
       "Books          26\n",
       "Electronics    26\n",
       "Clothing       25\n",
       "Home Decor     23\n",
       "Name: count, dtype: int64"
      ]
     },
     "execution_count": 67,
     "metadata": {},
     "output_type": "execute_result"
    }
   ],
   "source": [
    "data.Category.value_counts()"
   ]
  },
  {
   "cell_type": "code",
   "execution_count": 71,
   "id": "070db181-7b5d-429b-bcb9-9d0fce08eeaa",
   "metadata": {},
   "outputs": [
    {
     "data": {
      "text/plain": [
       "Price\n",
       "303.20    19\n",
       "433.64    17\n",
       "374.16    16\n",
       "417.37    16\n",
       "57.30     16\n",
       "          ..\n",
       "338.66     5\n",
       "26.26      4\n",
       "196.40     4\n",
       "18.82      4\n",
       "354.29     4\n",
       "Name: count, Length: 100, dtype: int64"
      ]
     },
     "execution_count": 71,
     "metadata": {},
     "output_type": "execute_result"
    }
   ],
   "source": [
    "data.Price.value_counts()"
   ]
  },
  {
   "cell_type": "markdown",
   "id": "7248570d-9427-4f16-981d-f1608d7d8e8f",
   "metadata": {},
   "source": [
    "# Reading the Transaction data"
   ]
  },
  {
   "cell_type": "code",
   "execution_count": 69,
   "id": "db2fd219-d150-4185-8f36-3a3848fd32af",
   "metadata": {},
   "outputs": [
    {
     "data": {
      "text/html": [
       "<div>\n",
       "<style scoped>\n",
       "    .dataframe tbody tr th:only-of-type {\n",
       "        vertical-align: middle;\n",
       "    }\n",
       "\n",
       "    .dataframe tbody tr th {\n",
       "        vertical-align: top;\n",
       "    }\n",
       "\n",
       "    .dataframe thead th {\n",
       "        text-align: right;\n",
       "    }\n",
       "</style>\n",
       "<table border=\"1\" class=\"dataframe\">\n",
       "  <thead>\n",
       "    <tr style=\"text-align: right;\">\n",
       "      <th></th>\n",
       "      <th>ï»¿TransactionID</th>\n",
       "      <th>CustomerID</th>\n",
       "      <th>ProductID</th>\n",
       "      <th>TransactionDate</th>\n",
       "      <th>Quantity</th>\n",
       "      <th>TotalValue</th>\n",
       "      <th>Price</th>\n",
       "    </tr>\n",
       "  </thead>\n",
       "  <tbody>\n",
       "    <tr>\n",
       "      <th>0</th>\n",
       "      <td>T00001</td>\n",
       "      <td>C0199</td>\n",
       "      <td>P067</td>\n",
       "      <td>2024-08-25 12:38:23</td>\n",
       "      <td>1</td>\n",
       "      <td>300.68</td>\n",
       "      <td>300.68</td>\n",
       "    </tr>\n",
       "    <tr>\n",
       "      <th>1</th>\n",
       "      <td>T00112</td>\n",
       "      <td>C0146</td>\n",
       "      <td>P067</td>\n",
       "      <td>2024-05-27 22:23:54</td>\n",
       "      <td>1</td>\n",
       "      <td>300.68</td>\n",
       "      <td>300.68</td>\n",
       "    </tr>\n",
       "    <tr>\n",
       "      <th>2</th>\n",
       "      <td>T00166</td>\n",
       "      <td>C0127</td>\n",
       "      <td>P067</td>\n",
       "      <td>2024-04-25 07:38:55</td>\n",
       "      <td>1</td>\n",
       "      <td>300.68</td>\n",
       "      <td>300.68</td>\n",
       "    </tr>\n",
       "    <tr>\n",
       "      <th>3</th>\n",
       "      <td>T00272</td>\n",
       "      <td>C0087</td>\n",
       "      <td>P067</td>\n",
       "      <td>2024-03-26 22:55:37</td>\n",
       "      <td>2</td>\n",
       "      <td>601.36</td>\n",
       "      <td>300.68</td>\n",
       "    </tr>\n",
       "    <tr>\n",
       "      <th>4</th>\n",
       "      <td>T00363</td>\n",
       "      <td>C0070</td>\n",
       "      <td>P067</td>\n",
       "      <td>2024-03-21 15:10:10</td>\n",
       "      <td>3</td>\n",
       "      <td>902.04</td>\n",
       "      <td>300.68</td>\n",
       "    </tr>\n",
       "  </tbody>\n",
       "</table>\n",
       "</div>"
      ],
      "text/plain": [
       "  ï»¿TransactionID CustomerID ProductID     TransactionDate  Quantity  \\\n",
       "0           T00001      C0199      P067 2024-08-25 12:38:23         1   \n",
       "1           T00112      C0146      P067 2024-05-27 22:23:54         1   \n",
       "2           T00166      C0127      P067 2024-04-25 07:38:55         1   \n",
       "3           T00272      C0087      P067 2024-03-26 22:55:37         2   \n",
       "4           T00363      C0070      P067 2024-03-21 15:10:10         3   \n",
       "\n",
       "   TotalValue   Price  \n",
       "0      300.68  300.68  \n",
       "1      300.68  300.68  \n",
       "2      300.68  300.68  \n",
       "3      601.36  300.68  \n",
       "4      902.04  300.68  "
      ]
     },
     "execution_count": 69,
     "metadata": {},
     "output_type": "execute_result"
    }
   ],
   "source": [
    "data = pd.read_excel('Transactions.csv.xlsx')\n",
    "data.head()"
   ]
  },
  {
   "cell_type": "code",
   "execution_count": 70,
   "id": "80837f43-56c3-4c3d-8cb1-915ede26dff0",
   "metadata": {},
   "outputs": [
    {
     "data": {
      "text/plain": [
       "(1000, 7)"
      ]
     },
     "execution_count": 70,
     "metadata": {},
     "output_type": "execute_result"
    }
   ],
   "source": [
    "data.shape"
   ]
  },
  {
   "cell_type": "code",
   "execution_count": 72,
   "id": "4a8a692b-4d26-438e-8fbb-465625bfcd14",
   "metadata": {},
   "outputs": [
    {
     "data": {
      "text/plain": [
       "Index(['ï»¿TransactionID', 'CustomerID', 'ProductID', 'TransactionDate',\n",
       "       'Quantity', 'TotalValue', 'Price'],\n",
       "      dtype='object')"
      ]
     },
     "execution_count": 72,
     "metadata": {},
     "output_type": "execute_result"
    }
   ],
   "source": [
    "data.columns"
   ]
  },
  {
   "cell_type": "code",
   "execution_count": 73,
   "id": "8f037046-df46-4f4d-b659-841aca455fcf",
   "metadata": {},
   "outputs": [
    {
     "data": {
      "text/plain": [
       "ï»¿TransactionID            object\n",
       "CustomerID                  object\n",
       "ProductID                   object\n",
       "TransactionDate     datetime64[ns]\n",
       "Quantity                     int64\n",
       "TotalValue                 float64\n",
       "Price                      float64\n",
       "dtype: object"
      ]
     },
     "execution_count": 73,
     "metadata": {},
     "output_type": "execute_result"
    }
   ],
   "source": [
    "data.dtypes"
   ]
  },
  {
   "cell_type": "code",
   "execution_count": 74,
   "id": "8dfb6fb3-b8e9-4a17-9f8d-0391cff11e2c",
   "metadata": {},
   "outputs": [
    {
     "data": {
      "text/html": [
       "<div>\n",
       "<style scoped>\n",
       "    .dataframe tbody tr th:only-of-type {\n",
       "        vertical-align: middle;\n",
       "    }\n",
       "\n",
       "    .dataframe tbody tr th {\n",
       "        vertical-align: top;\n",
       "    }\n",
       "\n",
       "    .dataframe thead th {\n",
       "        text-align: right;\n",
       "    }\n",
       "</style>\n",
       "<table border=\"1\" class=\"dataframe\">\n",
       "  <thead>\n",
       "    <tr style=\"text-align: right;\">\n",
       "      <th></th>\n",
       "      <th>TransactionDate</th>\n",
       "      <th>Quantity</th>\n",
       "      <th>TotalValue</th>\n",
       "      <th>Price</th>\n",
       "    </tr>\n",
       "  </thead>\n",
       "  <tbody>\n",
       "    <tr>\n",
       "      <th>count</th>\n",
       "      <td>1000</td>\n",
       "      <td>1000.000000</td>\n",
       "      <td>1000.000000</td>\n",
       "      <td>1000.00000</td>\n",
       "    </tr>\n",
       "    <tr>\n",
       "      <th>mean</th>\n",
       "      <td>2024-06-23 15:33:02.768999936</td>\n",
       "      <td>2.537000</td>\n",
       "      <td>689.995560</td>\n",
       "      <td>272.55407</td>\n",
       "    </tr>\n",
       "    <tr>\n",
       "      <th>min</th>\n",
       "      <td>2023-12-30 15:29:12</td>\n",
       "      <td>1.000000</td>\n",
       "      <td>16.080000</td>\n",
       "      <td>16.08000</td>\n",
       "    </tr>\n",
       "    <tr>\n",
       "      <th>25%</th>\n",
       "      <td>2024-03-25 22:05:34.500000</td>\n",
       "      <td>2.000000</td>\n",
       "      <td>295.295000</td>\n",
       "      <td>147.95000</td>\n",
       "    </tr>\n",
       "    <tr>\n",
       "      <th>50%</th>\n",
       "      <td>2024-06-26 17:21:52.500000</td>\n",
       "      <td>3.000000</td>\n",
       "      <td>588.880000</td>\n",
       "      <td>299.93000</td>\n",
       "    </tr>\n",
       "    <tr>\n",
       "      <th>75%</th>\n",
       "      <td>2024-09-19 14:19:57</td>\n",
       "      <td>4.000000</td>\n",
       "      <td>1011.660000</td>\n",
       "      <td>404.40000</td>\n",
       "    </tr>\n",
       "    <tr>\n",
       "      <th>max</th>\n",
       "      <td>2024-12-28 11:00:00</td>\n",
       "      <td>4.000000</td>\n",
       "      <td>1991.040000</td>\n",
       "      <td>497.76000</td>\n",
       "    </tr>\n",
       "    <tr>\n",
       "      <th>std</th>\n",
       "      <td>NaN</td>\n",
       "      <td>1.117981</td>\n",
       "      <td>493.144478</td>\n",
       "      <td>140.73639</td>\n",
       "    </tr>\n",
       "  </tbody>\n",
       "</table>\n",
       "</div>"
      ],
      "text/plain": [
       "                     TransactionDate     Quantity   TotalValue       Price\n",
       "count                           1000  1000.000000  1000.000000  1000.00000\n",
       "mean   2024-06-23 15:33:02.768999936     2.537000   689.995560   272.55407\n",
       "min              2023-12-30 15:29:12     1.000000    16.080000    16.08000\n",
       "25%       2024-03-25 22:05:34.500000     2.000000   295.295000   147.95000\n",
       "50%       2024-06-26 17:21:52.500000     3.000000   588.880000   299.93000\n",
       "75%              2024-09-19 14:19:57     4.000000  1011.660000   404.40000\n",
       "max              2024-12-28 11:00:00     4.000000  1991.040000   497.76000\n",
       "std                              NaN     1.117981   493.144478   140.73639"
      ]
     },
     "execution_count": 74,
     "metadata": {},
     "output_type": "execute_result"
    }
   ],
   "source": [
    "data.describe()"
   ]
  },
  {
   "cell_type": "markdown",
   "id": "74f6a675-fd20-4e62-bffb-e1ef3351dea9",
   "metadata": {},
   "source": [
    "**Number of null values in the columns**"
   ]
  },
  {
   "cell_type": "code",
   "execution_count": 75,
   "id": "8cc52bd3-679d-4440-8d72-a2d49bd1b1a9",
   "metadata": {},
   "outputs": [
    {
     "data": {
      "text/plain": [
       "ï»¿TransactionID    0\n",
       "CustomerID          0\n",
       "ProductID           0\n",
       "TransactionDate     0\n",
       "Quantity            0\n",
       "TotalValue          0\n",
       "Price               0\n",
       "dtype: int64"
      ]
     },
     "execution_count": 75,
     "metadata": {},
     "output_type": "execute_result"
    }
   ],
   "source": [
    "data.isnull().sum()"
   ]
  },
  {
   "cell_type": "code",
   "execution_count": 76,
   "id": "12ca99fc-b1cc-4753-9220-f903073026e7",
   "metadata": {},
   "outputs": [
    {
     "data": {
      "text/html": [
       "<div>\n",
       "<style scoped>\n",
       "    .dataframe tbody tr th:only-of-type {\n",
       "        vertical-align: middle;\n",
       "    }\n",
       "\n",
       "    .dataframe tbody tr th {\n",
       "        vertical-align: top;\n",
       "    }\n",
       "\n",
       "    .dataframe thead th {\n",
       "        text-align: right;\n",
       "    }\n",
       "</style>\n",
       "<table border=\"1\" class=\"dataframe\">\n",
       "  <thead>\n",
       "    <tr style=\"text-align: right;\">\n",
       "      <th></th>\n",
       "      <th>ï»¿TransactionID</th>\n",
       "      <th>CustomerID</th>\n",
       "      <th>ProductID</th>\n",
       "      <th>TransactionDate</th>\n",
       "      <th>Quantity</th>\n",
       "      <th>TotalValue</th>\n",
       "      <th>Price</th>\n",
       "    </tr>\n",
       "  </thead>\n",
       "  <tbody>\n",
       "    <tr>\n",
       "      <th>0</th>\n",
       "      <td>T00001</td>\n",
       "      <td>C0199</td>\n",
       "      <td>P067</td>\n",
       "      <td>2024-08-25 12:38:23</td>\n",
       "      <td>1</td>\n",
       "      <td>300.68</td>\n",
       "      <td>300.68</td>\n",
       "    </tr>\n",
       "    <tr>\n",
       "      <th>1</th>\n",
       "      <td>T00112</td>\n",
       "      <td>C0146</td>\n",
       "      <td>P067</td>\n",
       "      <td>2024-05-27 22:23:54</td>\n",
       "      <td>1</td>\n",
       "      <td>300.68</td>\n",
       "      <td>300.68</td>\n",
       "    </tr>\n",
       "    <tr>\n",
       "      <th>2</th>\n",
       "      <td>T00166</td>\n",
       "      <td>C0127</td>\n",
       "      <td>P067</td>\n",
       "      <td>2024-04-25 07:38:55</td>\n",
       "      <td>1</td>\n",
       "      <td>300.68</td>\n",
       "      <td>300.68</td>\n",
       "    </tr>\n",
       "    <tr>\n",
       "      <th>3</th>\n",
       "      <td>T00272</td>\n",
       "      <td>C0087</td>\n",
       "      <td>P067</td>\n",
       "      <td>2024-03-26 22:55:37</td>\n",
       "      <td>2</td>\n",
       "      <td>601.36</td>\n",
       "      <td>300.68</td>\n",
       "    </tr>\n",
       "    <tr>\n",
       "      <th>4</th>\n",
       "      <td>T00363</td>\n",
       "      <td>C0070</td>\n",
       "      <td>P067</td>\n",
       "      <td>2024-03-21 15:10:10</td>\n",
       "      <td>3</td>\n",
       "      <td>902.04</td>\n",
       "      <td>300.68</td>\n",
       "    </tr>\n",
       "    <tr>\n",
       "      <th>5</th>\n",
       "      <td>T00442</td>\n",
       "      <td>C0188</td>\n",
       "      <td>P067</td>\n",
       "      <td>2024-12-26 14:40:03</td>\n",
       "      <td>1</td>\n",
       "      <td>300.68</td>\n",
       "      <td>300.68</td>\n",
       "    </tr>\n",
       "    <tr>\n",
       "      <th>6</th>\n",
       "      <td>T00490</td>\n",
       "      <td>C0195</td>\n",
       "      <td>P067</td>\n",
       "      <td>2024-11-24 11:49:48</td>\n",
       "      <td>3</td>\n",
       "      <td>902.04</td>\n",
       "      <td>300.68</td>\n",
       "    </tr>\n",
       "    <tr>\n",
       "      <th>7</th>\n",
       "      <td>T00536</td>\n",
       "      <td>C0008</td>\n",
       "      <td>P067</td>\n",
       "      <td>2024-09-22 06:13:59</td>\n",
       "      <td>1</td>\n",
       "      <td>300.68</td>\n",
       "      <td>300.68</td>\n",
       "    </tr>\n",
       "    <tr>\n",
       "      <th>8</th>\n",
       "      <td>T00564</td>\n",
       "      <td>C0157</td>\n",
       "      <td>P067</td>\n",
       "      <td>2024-12-07 17:57:40</td>\n",
       "      <td>3</td>\n",
       "      <td>902.04</td>\n",
       "      <td>300.68</td>\n",
       "    </tr>\n",
       "    <tr>\n",
       "      <th>9</th>\n",
       "      <td>T00631</td>\n",
       "      <td>C0130</td>\n",
       "      <td>P067</td>\n",
       "      <td>2024-05-14 23:14:59</td>\n",
       "      <td>2</td>\n",
       "      <td>601.36</td>\n",
       "      <td>300.68</td>\n",
       "    </tr>\n",
       "    <tr>\n",
       "      <th>10</th>\n",
       "      <td>T00727</td>\n",
       "      <td>C0051</td>\n",
       "      <td>P067</td>\n",
       "      <td>2024-01-20 04:52:14</td>\n",
       "      <td>3</td>\n",
       "      <td>902.04</td>\n",
       "      <td>300.68</td>\n",
       "    </tr>\n",
       "    <tr>\n",
       "      <th>11</th>\n",
       "      <td>T00729</td>\n",
       "      <td>C0075</td>\n",
       "      <td>P067</td>\n",
       "      <td>2024-10-07 06:38:36</td>\n",
       "      <td>2</td>\n",
       "      <td>601.36</td>\n",
       "      <td>300.68</td>\n",
       "    </tr>\n",
       "    <tr>\n",
       "      <th>12</th>\n",
       "      <td>T00797</td>\n",
       "      <td>C0155</td>\n",
       "      <td>P067</td>\n",
       "      <td>2024-10-04 20:42:53</td>\n",
       "      <td>2</td>\n",
       "      <td>601.36</td>\n",
       "      <td>300.68</td>\n",
       "    </tr>\n",
       "    <tr>\n",
       "      <th>13</th>\n",
       "      <td>T00002</td>\n",
       "      <td>C0092</td>\n",
       "      <td>P034</td>\n",
       "      <td>2024-12-16 03:31:07</td>\n",
       "      <td>2</td>\n",
       "      <td>434.10</td>\n",
       "      <td>217.05</td>\n",
       "    </tr>\n",
       "    <tr>\n",
       "      <th>14</th>\n",
       "      <td>T00063</td>\n",
       "      <td>C0088</td>\n",
       "      <td>P034</td>\n",
       "      <td>2024-06-19 07:16:55</td>\n",
       "      <td>2</td>\n",
       "      <td>434.10</td>\n",
       "      <td>217.05</td>\n",
       "    </tr>\n",
       "    <tr>\n",
       "      <th>15</th>\n",
       "      <td>T00093</td>\n",
       "      <td>C0109</td>\n",
       "      <td>P034</td>\n",
       "      <td>2024-08-11 04:10:13</td>\n",
       "      <td>4</td>\n",
       "      <td>868.20</td>\n",
       "      <td>217.05</td>\n",
       "    </tr>\n",
       "    <tr>\n",
       "      <th>16</th>\n",
       "      <td>T00127</td>\n",
       "      <td>C0041</td>\n",
       "      <td>P034</td>\n",
       "      <td>2024-06-03 21:07:56</td>\n",
       "      <td>4</td>\n",
       "      <td>868.20</td>\n",
       "      <td>217.05</td>\n",
       "    </tr>\n",
       "    <tr>\n",
       "      <th>17</th>\n",
       "      <td>T00270</td>\n",
       "      <td>C0101</td>\n",
       "      <td>P034</td>\n",
       "      <td>2024-11-07 02:48:08</td>\n",
       "      <td>3</td>\n",
       "      <td>651.15</td>\n",
       "      <td>217.05</td>\n",
       "    </tr>\n",
       "    <tr>\n",
       "      <th>18</th>\n",
       "      <td>T00358</td>\n",
       "      <td>C0154</td>\n",
       "      <td>P034</td>\n",
       "      <td>2024-04-08 20:47:01</td>\n",
       "      <td>1</td>\n",
       "      <td>217.05</td>\n",
       "      <td>217.05</td>\n",
       "    </tr>\n",
       "    <tr>\n",
       "      <th>19</th>\n",
       "      <td>T00518</td>\n",
       "      <td>C0200</td>\n",
       "      <td>P034</td>\n",
       "      <td>2024-12-11 03:05:50</td>\n",
       "      <td>4</td>\n",
       "      <td>868.20</td>\n",
       "      <td>217.05</td>\n",
       "    </tr>\n",
       "    <tr>\n",
       "      <th>20</th>\n",
       "      <td>T00546</td>\n",
       "      <td>C0049</td>\n",
       "      <td>P034</td>\n",
       "      <td>2024-08-30 06:42:27</td>\n",
       "      <td>1</td>\n",
       "      <td>217.05</td>\n",
       "      <td>217.05</td>\n",
       "    </tr>\n",
       "    <tr>\n",
       "      <th>21</th>\n",
       "      <td>T00982</td>\n",
       "      <td>C0103</td>\n",
       "      <td>P034</td>\n",
       "      <td>2024-07-17 03:25:18</td>\n",
       "      <td>1</td>\n",
       "      <td>217.05</td>\n",
       "      <td>217.05</td>\n",
       "    </tr>\n",
       "    <tr>\n",
       "      <th>22</th>\n",
       "      <td>T00003</td>\n",
       "      <td>C0028</td>\n",
       "      <td>P057</td>\n",
       "      <td>2024-01-25 14:28:34</td>\n",
       "      <td>4</td>\n",
       "      <td>958.80</td>\n",
       "      <td>239.70</td>\n",
       "    </tr>\n",
       "    <tr>\n",
       "      <th>23</th>\n",
       "      <td>T00013</td>\n",
       "      <td>C0183</td>\n",
       "      <td>P057</td>\n",
       "      <td>2024-03-04 22:09:57</td>\n",
       "      <td>4</td>\n",
       "      <td>958.80</td>\n",
       "      <td>239.70</td>\n",
       "    </tr>\n",
       "    <tr>\n",
       "      <th>24</th>\n",
       "      <td>T00017</td>\n",
       "      <td>C0087</td>\n",
       "      <td>P057</td>\n",
       "      <td>2024-05-09 03:52:43</td>\n",
       "      <td>4</td>\n",
       "      <td>958.80</td>\n",
       "      <td>239.70</td>\n",
       "    </tr>\n",
       "    <tr>\n",
       "      <th>25</th>\n",
       "      <td>T00046</td>\n",
       "      <td>C0190</td>\n",
       "      <td>P057</td>\n",
       "      <td>2024-07-28 06:29:59</td>\n",
       "      <td>4</td>\n",
       "      <td>958.80</td>\n",
       "      <td>239.70</td>\n",
       "    </tr>\n",
       "    <tr>\n",
       "      <th>26</th>\n",
       "      <td>T00091</td>\n",
       "      <td>C0200</td>\n",
       "      <td>P057</td>\n",
       "      <td>2024-04-27 19:06:20</td>\n",
       "      <td>1</td>\n",
       "      <td>239.70</td>\n",
       "      <td>239.70</td>\n",
       "    </tr>\n",
       "    <tr>\n",
       "      <th>27</th>\n",
       "      <td>T00161</td>\n",
       "      <td>C0055</td>\n",
       "      <td>P057</td>\n",
       "      <td>2024-07-15 07:02:39</td>\n",
       "      <td>2</td>\n",
       "      <td>479.40</td>\n",
       "      <td>239.70</td>\n",
       "    </tr>\n",
       "    <tr>\n",
       "      <th>28</th>\n",
       "      <td>T00184</td>\n",
       "      <td>C0188</td>\n",
       "      <td>P057</td>\n",
       "      <td>2024-05-13 07:24:49</td>\n",
       "      <td>2</td>\n",
       "      <td>479.40</td>\n",
       "      <td>239.70</td>\n",
       "    </tr>\n",
       "    <tr>\n",
       "      <th>29</th>\n",
       "      <td>T00218</td>\n",
       "      <td>C0148</td>\n",
       "      <td>P057</td>\n",
       "      <td>2024-01-17 19:40:55</td>\n",
       "      <td>3</td>\n",
       "      <td>719.10</td>\n",
       "      <td>239.70</td>\n",
       "    </tr>\n",
       "    <tr>\n",
       "      <th>30</th>\n",
       "      <td>T00417</td>\n",
       "      <td>C0035</td>\n",
       "      <td>P057</td>\n",
       "      <td>2024-04-20 22:54:54</td>\n",
       "      <td>3</td>\n",
       "      <td>719.10</td>\n",
       "      <td>239.70</td>\n",
       "    </tr>\n",
       "    <tr>\n",
       "      <th>31</th>\n",
       "      <td>T00492</td>\n",
       "      <td>C0120</td>\n",
       "      <td>P057</td>\n",
       "      <td>2024-08-08 05:40:02</td>\n",
       "      <td>3</td>\n",
       "      <td>719.10</td>\n",
       "      <td>239.70</td>\n",
       "    </tr>\n",
       "    <tr>\n",
       "      <th>32</th>\n",
       "      <td>T00605</td>\n",
       "      <td>C0017</td>\n",
       "      <td>P057</td>\n",
       "      <td>2023-12-31 03:27:43</td>\n",
       "      <td>4</td>\n",
       "      <td>958.80</td>\n",
       "      <td>239.70</td>\n",
       "    </tr>\n",
       "    <tr>\n",
       "      <th>33</th>\n",
       "      <td>T00615</td>\n",
       "      <td>C0145</td>\n",
       "      <td>P057</td>\n",
       "      <td>2024-07-14 07:45:15</td>\n",
       "      <td>2</td>\n",
       "      <td>479.40</td>\n",
       "      <td>239.70</td>\n",
       "    </tr>\n",
       "    <tr>\n",
       "      <th>34</th>\n",
       "      <td>T00619</td>\n",
       "      <td>C0028</td>\n",
       "      <td>P057</td>\n",
       "      <td>2024-12-25 09:53:39</td>\n",
       "      <td>2</td>\n",
       "      <td>479.40</td>\n",
       "      <td>239.70</td>\n",
       "    </tr>\n",
       "    <tr>\n",
       "      <th>35</th>\n",
       "      <td>T00703</td>\n",
       "      <td>C0092</td>\n",
       "      <td>P057</td>\n",
       "      <td>2024-02-04 00:31:54</td>\n",
       "      <td>3</td>\n",
       "      <td>719.10</td>\n",
       "      <td>239.70</td>\n",
       "    </tr>\n",
       "    <tr>\n",
       "      <th>36</th>\n",
       "      <td>T00962</td>\n",
       "      <td>C0188</td>\n",
       "      <td>P057</td>\n",
       "      <td>2024-11-29 19:49:24</td>\n",
       "      <td>2</td>\n",
       "      <td>479.40</td>\n",
       "      <td>239.70</td>\n",
       "    </tr>\n",
       "    <tr>\n",
       "      <th>37</th>\n",
       "      <td>T00004</td>\n",
       "      <td>C0004</td>\n",
       "      <td>P049</td>\n",
       "      <td>2024-07-19 10:56:13</td>\n",
       "      <td>4</td>\n",
       "      <td>591.80</td>\n",
       "      <td>147.95</td>\n",
       "    </tr>\n",
       "    <tr>\n",
       "      <th>38</th>\n",
       "      <td>T00105</td>\n",
       "      <td>C0087</td>\n",
       "      <td>P049</td>\n",
       "      <td>2024-02-12 08:14:34</td>\n",
       "      <td>3</td>\n",
       "      <td>443.85</td>\n",
       "      <td>147.95</td>\n",
       "    </tr>\n",
       "    <tr>\n",
       "      <th>39</th>\n",
       "      <td>T00136</td>\n",
       "      <td>C0010</td>\n",
       "      <td>P049</td>\n",
       "      <td>2024-02-22 18:44:05</td>\n",
       "      <td>2</td>\n",
       "      <td>295.90</td>\n",
       "      <td>147.95</td>\n",
       "    </tr>\n",
       "    <tr>\n",
       "      <th>40</th>\n",
       "      <td>T00237</td>\n",
       "      <td>C0065</td>\n",
       "      <td>P049</td>\n",
       "      <td>2024-02-27 22:16:22</td>\n",
       "      <td>2</td>\n",
       "      <td>295.90</td>\n",
       "      <td>147.95</td>\n",
       "    </tr>\n",
       "    <tr>\n",
       "      <th>41</th>\n",
       "      <td>T00239</td>\n",
       "      <td>C0132</td>\n",
       "      <td>P049</td>\n",
       "      <td>2024-12-06 19:03:54</td>\n",
       "      <td>2</td>\n",
       "      <td>295.90</td>\n",
       "      <td>147.95</td>\n",
       "    </tr>\n",
       "    <tr>\n",
       "      <th>42</th>\n",
       "      <td>T00310</td>\n",
       "      <td>C0068</td>\n",
       "      <td>P049</td>\n",
       "      <td>2024-05-18 05:03:08</td>\n",
       "      <td>2</td>\n",
       "      <td>295.90</td>\n",
       "      <td>147.95</td>\n",
       "    </tr>\n",
       "    <tr>\n",
       "      <th>43</th>\n",
       "      <td>T00470</td>\n",
       "      <td>C0123</td>\n",
       "      <td>P049</td>\n",
       "      <td>2024-11-13 17:36:31</td>\n",
       "      <td>1</td>\n",
       "      <td>147.95</td>\n",
       "      <td>147.95</td>\n",
       "    </tr>\n",
       "    <tr>\n",
       "      <th>44</th>\n",
       "      <td>T00551</td>\n",
       "      <td>C0018</td>\n",
       "      <td>P049</td>\n",
       "      <td>2024-02-23 13:28:08</td>\n",
       "      <td>3</td>\n",
       "      <td>443.85</td>\n",
       "      <td>147.95</td>\n",
       "    </tr>\n",
       "    <tr>\n",
       "      <th>45</th>\n",
       "      <td>T00563</td>\n",
       "      <td>C0064</td>\n",
       "      <td>P049</td>\n",
       "      <td>2024-01-16 18:52:43</td>\n",
       "      <td>1</td>\n",
       "      <td>147.95</td>\n",
       "      <td>147.95</td>\n",
       "    </tr>\n",
       "    <tr>\n",
       "      <th>46</th>\n",
       "      <td>T00567</td>\n",
       "      <td>C0121</td>\n",
       "      <td>P049</td>\n",
       "      <td>2024-09-27 23:40:32</td>\n",
       "      <td>2</td>\n",
       "      <td>295.90</td>\n",
       "      <td>147.95</td>\n",
       "    </tr>\n",
       "    <tr>\n",
       "      <th>47</th>\n",
       "      <td>T00620</td>\n",
       "      <td>C0041</td>\n",
       "      <td>P049</td>\n",
       "      <td>2024-01-05 18:43:06</td>\n",
       "      <td>4</td>\n",
       "      <td>591.80</td>\n",
       "      <td>147.95</td>\n",
       "    </tr>\n",
       "    <tr>\n",
       "      <th>48</th>\n",
       "      <td>T00650</td>\n",
       "      <td>C0070</td>\n",
       "      <td>P049</td>\n",
       "      <td>2024-10-07 14:56:13</td>\n",
       "      <td>4</td>\n",
       "      <td>591.80</td>\n",
       "      <td>147.95</td>\n",
       "    </tr>\n",
       "    <tr>\n",
       "      <th>49</th>\n",
       "      <td>T00818</td>\n",
       "      <td>C0161</td>\n",
       "      <td>P049</td>\n",
       "      <td>2024-01-01 03:54:19</td>\n",
       "      <td>1</td>\n",
       "      <td>147.95</td>\n",
       "      <td>147.95</td>\n",
       "    </tr>\n",
       "  </tbody>\n",
       "</table>\n",
       "</div>"
      ],
      "text/plain": [
       "   ï»¿TransactionID CustomerID ProductID     TransactionDate  Quantity  \\\n",
       "0            T00001      C0199      P067 2024-08-25 12:38:23         1   \n",
       "1            T00112      C0146      P067 2024-05-27 22:23:54         1   \n",
       "2            T00166      C0127      P067 2024-04-25 07:38:55         1   \n",
       "3            T00272      C0087      P067 2024-03-26 22:55:37         2   \n",
       "4            T00363      C0070      P067 2024-03-21 15:10:10         3   \n",
       "5            T00442      C0188      P067 2024-12-26 14:40:03         1   \n",
       "6            T00490      C0195      P067 2024-11-24 11:49:48         3   \n",
       "7            T00536      C0008      P067 2024-09-22 06:13:59         1   \n",
       "8            T00564      C0157      P067 2024-12-07 17:57:40         3   \n",
       "9            T00631      C0130      P067 2024-05-14 23:14:59         2   \n",
       "10           T00727      C0051      P067 2024-01-20 04:52:14         3   \n",
       "11           T00729      C0075      P067 2024-10-07 06:38:36         2   \n",
       "12           T00797      C0155      P067 2024-10-04 20:42:53         2   \n",
       "13           T00002      C0092      P034 2024-12-16 03:31:07         2   \n",
       "14           T00063      C0088      P034 2024-06-19 07:16:55         2   \n",
       "15           T00093      C0109      P034 2024-08-11 04:10:13         4   \n",
       "16           T00127      C0041      P034 2024-06-03 21:07:56         4   \n",
       "17           T00270      C0101      P034 2024-11-07 02:48:08         3   \n",
       "18           T00358      C0154      P034 2024-04-08 20:47:01         1   \n",
       "19           T00518      C0200      P034 2024-12-11 03:05:50         4   \n",
       "20           T00546      C0049      P034 2024-08-30 06:42:27         1   \n",
       "21           T00982      C0103      P034 2024-07-17 03:25:18         1   \n",
       "22           T00003      C0028      P057 2024-01-25 14:28:34         4   \n",
       "23           T00013      C0183      P057 2024-03-04 22:09:57         4   \n",
       "24           T00017      C0087      P057 2024-05-09 03:52:43         4   \n",
       "25           T00046      C0190      P057 2024-07-28 06:29:59         4   \n",
       "26           T00091      C0200      P057 2024-04-27 19:06:20         1   \n",
       "27           T00161      C0055      P057 2024-07-15 07:02:39         2   \n",
       "28           T00184      C0188      P057 2024-05-13 07:24:49         2   \n",
       "29           T00218      C0148      P057 2024-01-17 19:40:55         3   \n",
       "30           T00417      C0035      P057 2024-04-20 22:54:54         3   \n",
       "31           T00492      C0120      P057 2024-08-08 05:40:02         3   \n",
       "32           T00605      C0017      P057 2023-12-31 03:27:43         4   \n",
       "33           T00615      C0145      P057 2024-07-14 07:45:15         2   \n",
       "34           T00619      C0028      P057 2024-12-25 09:53:39         2   \n",
       "35           T00703      C0092      P057 2024-02-04 00:31:54         3   \n",
       "36           T00962      C0188      P057 2024-11-29 19:49:24         2   \n",
       "37           T00004      C0004      P049 2024-07-19 10:56:13         4   \n",
       "38           T00105      C0087      P049 2024-02-12 08:14:34         3   \n",
       "39           T00136      C0010      P049 2024-02-22 18:44:05         2   \n",
       "40           T00237      C0065      P049 2024-02-27 22:16:22         2   \n",
       "41           T00239      C0132      P049 2024-12-06 19:03:54         2   \n",
       "42           T00310      C0068      P049 2024-05-18 05:03:08         2   \n",
       "43           T00470      C0123      P049 2024-11-13 17:36:31         1   \n",
       "44           T00551      C0018      P049 2024-02-23 13:28:08         3   \n",
       "45           T00563      C0064      P049 2024-01-16 18:52:43         1   \n",
       "46           T00567      C0121      P049 2024-09-27 23:40:32         2   \n",
       "47           T00620      C0041      P049 2024-01-05 18:43:06         4   \n",
       "48           T00650      C0070      P049 2024-10-07 14:56:13         4   \n",
       "49           T00818      C0161      P049 2024-01-01 03:54:19         1   \n",
       "\n",
       "    TotalValue   Price  \n",
       "0       300.68  300.68  \n",
       "1       300.68  300.68  \n",
       "2       300.68  300.68  \n",
       "3       601.36  300.68  \n",
       "4       902.04  300.68  \n",
       "5       300.68  300.68  \n",
       "6       902.04  300.68  \n",
       "7       300.68  300.68  \n",
       "8       902.04  300.68  \n",
       "9       601.36  300.68  \n",
       "10      902.04  300.68  \n",
       "11      601.36  300.68  \n",
       "12      601.36  300.68  \n",
       "13      434.10  217.05  \n",
       "14      434.10  217.05  \n",
       "15      868.20  217.05  \n",
       "16      868.20  217.05  \n",
       "17      651.15  217.05  \n",
       "18      217.05  217.05  \n",
       "19      868.20  217.05  \n",
       "20      217.05  217.05  \n",
       "21      217.05  217.05  \n",
       "22      958.80  239.70  \n",
       "23      958.80  239.70  \n",
       "24      958.80  239.70  \n",
       "25      958.80  239.70  \n",
       "26      239.70  239.70  \n",
       "27      479.40  239.70  \n",
       "28      479.40  239.70  \n",
       "29      719.10  239.70  \n",
       "30      719.10  239.70  \n",
       "31      719.10  239.70  \n",
       "32      958.80  239.70  \n",
       "33      479.40  239.70  \n",
       "34      479.40  239.70  \n",
       "35      719.10  239.70  \n",
       "36      479.40  239.70  \n",
       "37      591.80  147.95  \n",
       "38      443.85  147.95  \n",
       "39      295.90  147.95  \n",
       "40      295.90  147.95  \n",
       "41      295.90  147.95  \n",
       "42      295.90  147.95  \n",
       "43      147.95  147.95  \n",
       "44      443.85  147.95  \n",
       "45      147.95  147.95  \n",
       "46      295.90  147.95  \n",
       "47      591.80  147.95  \n",
       "48      591.80  147.95  \n",
       "49      147.95  147.95  "
      ]
     },
     "execution_count": 76,
     "metadata": {},
     "output_type": "execute_result"
    }
   ],
   "source": [
    "data.head(50)"
   ]
  },
  {
   "cell_type": "markdown",
   "id": "732e653e-5658-47fd-891d-438fb4fc8bab",
   "metadata": {},
   "source": [
    "**Box Plotting**"
   ]
  },
  {
   "cell_type": "code",
   "execution_count": 78,
   "id": "97b84cb8-6e0f-47c4-a024-9a8f41898d20",
   "metadata": {},
   "outputs": [
    {
     "data": {
      "text/plain": [
       "<Axes: >"
      ]
     },
     "execution_count": 78,
     "metadata": {},
     "output_type": "execute_result"
    },
    {
     "data": {
      "image/png": "[encoded data removed]",
      "text/plain": [
       "<Figure size 1000x1000 with 1 Axes>"
      ]
     },
     "metadata": {},
     "output_type": "display_data"
    }
   ],
   "source": [
    "fig,ax = plt.subplots(figsize=(10,10))\n",
    "sns.boxplot(data = data,ax=ax)"
   ]
  },
  {
   "cell_type": "code",
   "execution_count": 81,
   "id": "c76ec7d1-6441-4717-b52a-1d636eaa42b0",
   "metadata": {},
   "outputs": [
    {
     "data": {
      "text/plain": [
       "<seaborn.axisgrid.FacetGrid at 0x1d973bf1e80>"
      ]
     },
     "execution_count": 81,
     "metadata": {},
     "output_type": "execute_result"
    },
    {
     "data": {
      "image/png": "[encoded data removed]",
      "text/plain": [
       "<Figure size 500x500 with 1 Axes>"
      ]
     },
     "metadata": {},
     "output_type": "display_data"
    }
   ],
   "source": [
    "sns.displot(data.TransactionDate )"
   ]
  },
  {
   "cell_type": "code",
   "execution_count": 82,
   "id": "e1167aee-7d83-4ab4-ae7d-350a6dab2006",
   "metadata": {},
   "outputs": [
    {
     "data": {
      "text/plain": [
       "<seaborn.axisgrid.FacetGrid at 0x1d973620770>"
      ]
     },
     "execution_count": 82,
     "metadata": {},
     "output_type": "execute_result"
    },
    {
     "data": {
      "image/png": "[encoded data removed]",
      "text/plain": [
       "<Figure size 500x500 with 1 Axes>"
      ]
     },
     "metadata": {},
     "output_type": "display_data"
    }
   ],
   "source": [
    "sns.displot(data.Quantity)"
   ]
  },
  {
   "cell_type": "code",
   "execution_count": 83,
   "id": "d13324e0-4800-4265-a810-c61c1e6ebd45",
   "metadata": {},
   "outputs": [
    {
     "data": {
      "text/plain": [
       "<seaborn.axisgrid.FacetGrid at 0x1d973630920>"
      ]
     },
     "execution_count": 83,
     "metadata": {},
     "output_type": "execute_result"
    },
    {
     "data": {
      "image/png": "[encoded data removed]",
      "text/plain": [
       "<Figure size 500x500 with 1 Axes>"
      ]
     },
     "metadata": {},
     "output_type": "display_data"
    }
   ],
   "source": [
    "sns.displot(data.TotalValue)"
   ]
  },
  {
   "cell_type": "code",
   "execution_count": 84,
   "id": "6de50a68-af97-44cd-ae83-ae9e815df09d",
   "metadata": {},
   "outputs": [
    {
     "data": {
      "text/plain": [
       "<seaborn.axisgrid.FacetGrid at 0x1d9766e24b0>"
      ]
     },
     "execution_count": 84,
     "metadata": {},
     "output_type": "execute_result"
    },
    {
     "data": {
      "image/png": "[encoded data removed]",
      "text/plain": [
       "<Figure size 500x500 with 1 Axes>"
      ]
     },
     "metadata": {},
     "output_type": "display_data"
    }
   ],
   "source": [
    "sns.displot(data.Price)"
   ]
  },
  {
   "cell_type": "markdown",
   "id": "e489b092-65ef-4d7a-af69-7c45f99e6084",
   "metadata": {},
   "source": [
    "**Corelation coefficient heatmap- Features selection Technique**"
   ]
  },
  {
   "cell_type": "code",
   "execution_count": 85,
   "id": "9f2c438b-89b1-4d4a-9e2c-af8052ad1e2d",
   "metadata": {},
   "outputs": [],
   "source": [
    "numeric_data = data.select_dtypes(include='number')"
   ]
  },
  {
   "cell_type": "code",
   "execution_count": 86,
   "id": "12efa339-76f6-4f34-9a6e-280d363e02e6",
   "metadata": {},
   "outputs": [
    {
     "data": {
      "image/png": "[encoded data removed]",
      "text/plain": [
       "<Figure size 1500x1500 with 2 Axes>"
      ]
     },
     "metadata": {},
     "output_type": "display_data"
    }
   ],
   "source": [
    "plt.figure(figsize=(15, 15))\n",
    "ax = sns.heatmap(numeric_data.corr(), annot=True)\n",
    "plt.show()"
   ]
  },
  {
   "cell_type": "markdown",
   "id": "152ffc95-2d88-4e7e-a53a-c487dbdb7177",
   "metadata": {},
   "source": [
    "**Classification Task:To check wheather the data is balanced or not**"
   ]
  },
  {
   "cell_type": "code",
   "execution_count": 87,
   "id": "f00d4eb0-6a7d-4cd6-873d-db9ab93d697b",
   "metadata": {},
   "outputs": [
    {
     "data": {
      "text/plain": [
       "Quantity\n",
       "4    261\n",
       "3    254\n",
       "2    246\n",
       "1    239\n",
       "Name: count, dtype: int64"
      ]
     },
     "execution_count": 87,
     "metadata": {},
     "output_type": "execute_result"
    }
   ],
   "source": [
    "data.Quantity.value_counts()"
   ]
  },
  {
   "cell_type": "code",
   "execution_count": 88,
   "id": "aaf1bfed-db72-4ee1-bf70-7ebcc57ce947",
   "metadata": {},
   "outputs": [
    {
     "data": {
      "text/plain": [
       "TotalValue\n",
       "412.62     8\n",
       "293.70     7\n",
       "171.90     7\n",
       "748.32     7\n",
       "1585.36    7\n",
       "          ..\n",
       "1490.20    1\n",
       "354.29     1\n",
       "708.58     1\n",
       "472.86     1\n",
       "1839.44    1\n",
       "Name: count, Length: 369, dtype: int64"
      ]
     },
     "execution_count": 88,
     "metadata": {},
     "output_type": "execute_result"
    }
   ],
   "source": [
    "data.TotalValue.value_counts()"
   ]
  },
  {
   "cell_type": "code",
   "execution_count": 89,
   "id": "cce207ea-fef0-4f39-b517-8f96782aea25",
   "metadata": {},
   "outputs": [
    {
     "data": {
      "text/plain": [
       "Price\n",
       "303.20    19\n",
       "433.64    17\n",
       "374.16    16\n",
       "417.37    16\n",
       "57.30     16\n",
       "          ..\n",
       "338.66     5\n",
       "26.26      4\n",
       "196.40     4\n",
       "18.82      4\n",
       "354.29     4\n",
       "Name: count, Length: 100, dtype: int64"
      ]
     },
     "execution_count": 89,
     "metadata": {},
     "output_type": "execute_result"
    }
   ],
   "source": [
    "data.Price.value_counts()"
   ]
  },
  {
   "cell_type": "code",
   "execution_count": null,
   "id": "367f0015-df4a-44b2-9825-82da8107bbbe",
   "metadata": {},
   "outputs": [],
   "source": []
  }
 ],
 "metadata": {
  "kernelspec": {
   "display_name": "Python 3 (ipykernel)",
   "language": "python",
   "name": "python3"
  },
  "language_info": {
   "codemirror_mode": {
    "name": "ipython",
    "version": 3
   },
   "file_extension": ".py",
   "mimetype": "text/x-python",
   "name": "python",
   "nbconvert_exporter": "python",
   "pygments_lexer": "ipython3",
   "version": "3.12.7"
  }
 },
 "nbformat": 4,
 "nbformat_minor": 5
}
